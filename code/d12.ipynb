{
 "cells": [
  {
   "cell_type": "code",
   "execution_count": 5,
   "id": "ba42ee6c-7b5d-430d-a3e0-d4daea50788a",
   "metadata": {},
   "outputs": [],
   "source": [
    "import numpy as np\n",
    "import torch\n",
    "import torch.nn.functional as F\n",
    "\n",
    "from matplotlib import pyplot as plt"
   ]
  },
  {
   "cell_type": "code",
   "execution_count": 67,
   "id": "0f2a0884-11c5-4542-ad06-784c379efba2",
   "metadata": {},
   "outputs": [],
   "source": [
    "def read_M(s):\n",
    "    M = []\n",
    "    for l in s[:-1].split('\\n'):\n",
    "        M.append(list(l))\n",
    "    return np.array(M)\n",
    "    \n",
    "def padding(M):\n",
    "    i = M.shape[0] + 2\n",
    "    j = M.shape[1] + 2\n",
    "    M_new = np.zeros(shape=(i, j))\n",
    "    M_new[1:-1, 1:-1] = M.copy()\n",
    "    return M_new        "
   ]
  },
  {
   "cell_type": "code",
   "execution_count": 252,
   "id": "4d65ef8b-9a38-4caa-b681-1b5661a1b515",
   "metadata": {},
   "outputs": [],
   "source": [
    "def apply_convolution(input_array, filter_kernel):\n",
    "    \"\"\"\n",
    "    Applies a convolution on the input array using the given filter kernel.\n",
    "    \n",
    "    Args:\n",
    "    input_array (torch.Tensor): The input 2D array with shape (H, W).\n",
    "    filter_kernel (torch.Tensor): The 2D filter kernel with shape (kH, kW).\n",
    "    \n",
    "    Returns:\n",
    "    torch.Tensor: The result of the convolution operation.\n",
    "    \"\"\"\n",
    "    # Ensure the input array is a 4D tensor with shape (1, 1, H, W)\n",
    "    input_tensor = torch.from_numpy(input_array).unsqueeze(0).unsqueeze(0)  # Shape: (1, 1, H, W)\n",
    "    \n",
    "    # Ensure the filter kernel is a 4D tensor with shape (1, 1, kH, kW)\n",
    "    kernel_tensor = torch.from_numpy(filter_kernel).unsqueeze(0).unsqueeze(0)  # Shape: (1, 1, kH, kW)\n",
    "    \n",
    "    # Perform the 2D convolution\n",
    "    output_tensor = F.conv2d(input_tensor, kernel_tensor, padding=(\n",
    "        (filter_kernel.shape[0] - 1) // 2,\n",
    "        (filter_kernel.shape[1] - 1) // 2\n",
    "    )\n",
    "    )\n",
    "    \n",
    "    # Remove the batch and channel dimensions to return a simple 2D array\n",
    "    output_array = output_tensor.squeeze(0).squeeze(0)  # Shape: (H_out, W_out)\n",
    "    \n",
    "    return output_array.numpy()\n",
    "\n",
    "kernel_fil = np.array(\n",
    "    [[0, 1, 0],\n",
    "     [1, 1, 1],\n",
    "     [0, 1, 0]]\n",
    ").astype(float)\n",
    "\n",
    "kernel_neighbour = np.array(\n",
    "    [[0, 1, 0],\n",
    "     [1, 0, 1],\n",
    "     [0, 1, 0]]\n",
    ").astype(float)\n",
    "\n",
    "kernel_horizontal_up = np.array(\n",
    "    [[-1],\n",
    "    [1],\n",
    "    [0]]\n",
    ").astype(float)\n",
    "\n",
    "kernel_horizontal_down = np.array(\n",
    "    [[0],\n",
    "    [1],\n",
    "    [-1]]\n",
    ").astype(float)\n",
    "\n",
    "kernel_vertical_left = np.array(\n",
    "    [[-1, 1, 0]]\n",
    ").astype(float)\n",
    "\n",
    "kernel_vertical_right = np.array(\n",
    "    [[0, 1, -1]]\n",
    ").astype(float)"
   ]
  },
  {
   "cell_type": "code",
   "execution_count": 139,
   "id": "29246e76-4b5c-4086-9e1b-19f1bfec586e",
   "metadata": {},
   "outputs": [],
   "source": [
    "def get_values_for_one_object(M, start, kernel_fil, kernel_neighbour):\n",
    "    plant = M[start]\n",
    "    M_fil = M.copy()\n",
    "    M_fil_prev = M.copy()\n",
    "    M_fil[start] = '1'\n",
    "    while (M_fil != M_fil_prev).sum()!=0:\n",
    "        M_current = (M_fil == '1').astype(float)\n",
    "        M_neighbours = apply_convolution(M_current, kernel_fil) > 0\n",
    "        M_same = (M == plant)\n",
    "        M_fil_prev = M_fil.copy()\n",
    "        M_fil[M_neighbours&M_same] = '1'\n",
    "    M_current = (M_fil == '1').astype(float)\n",
    "    area = int(M_current.sum())\n",
    "    M_edge = apply_convolution(M_current, kernel_neighbour)\n",
    "    perimeter = int(((4 - (M_edge * M_current)) * M_current).sum())\n",
    "    fil = M_fil == '1'\n",
    "    M_new = M.copy()\n",
    "    M_new[fil] = '0'\n",
    "    return area * perimeter, M_new"
   ]
  },
  {
   "cell_type": "code",
   "execution_count": 149,
   "id": "bf572cc6-ae10-467c-8a6a-c89f2de7c043",
   "metadata": {},
   "outputs": [],
   "source": [
    "def get_values(M, kernel_fil, kernel_neighbour):\n",
    "    A = []\n",
    "    for i in range(M.shape[0]):\n",
    "        A.append(['0' for x in range(M.shape[1])])\n",
    "    A = np.array(A)\n",
    "    scores = 0\n",
    "    while (M != A).sum() > 0:\n",
    "        start = np.where(M != '0')\n",
    "        start = start[0][0], start[1][0]\n",
    "        s, M = get_values_for_one_object(M, start, kernel_fil, kernel_neighbour)\n",
    "        scores += s\n",
    "    return scores"
   ]
  },
  {
   "cell_type": "code",
   "execution_count": 224,
   "id": "353abca8-66c9-4046-a41c-8f5548967e3b",
   "metadata": {},
   "outputs": [
    {
     "data": {
      "text/plain": [
       "1930"
      ]
     },
     "execution_count": 224,
     "metadata": {},
     "output_type": "execute_result"
    }
   ],
   "source": [
    "s = 'RRRRIICCFF\\nRRRRIICCCF\\nVVRRRCCFFF\\nVVRCCCJFFF\\nVVVVCJJCFE\\nVVIVCCJJEE\\nVVIIICJJEE\\nMIIIIIJJEE\\nMIIISIJEEE\\nMMMISSJEEE\\n'\n",
    "M = read_M(s)\n",
    "get_values(M, kernel_fil, kernel_neighbour)"
   ]
  },
  {
   "cell_type": "code",
   "execution_count": 225,
   "id": "ff04cd98-913a-4732-aeab-f6997598f450",
   "metadata": {},
   "outputs": [
    {
     "data": {
      "text/plain": [
       "1465112"
      ]
     },
     "execution_count": 225,
     "metadata": {},
     "output_type": "execute_result"
    }
   ],
   "source": [
    "with open('../data/d12.txt') as fin:\n",
    "    s = fin.read()\n",
    "M = read_M(s)\n",
    "get_values(M, kernel_fil, kernel_neighbour)"
   ]
  },
  {
   "cell_type": "code",
   "execution_count": 277,
   "id": "f9d802cd-de1f-4a53-9b1a-67e2ebb6c3ea",
   "metadata": {},
   "outputs": [],
   "source": [
    "def get_values_for_one_object2(M, start, kernel_fil, kernel_neighbour):\n",
    "    plant = M[start]\n",
    "    M_fil = M.copy()\n",
    "    M_fil_prev = M.copy()\n",
    "    M_fil[start] = '1'\n",
    "    while (M_fil != M_fil_prev).sum()!=0:\n",
    "        M_current = (M_fil == '1').astype(float)\n",
    "        M_neighbours = apply_convolution(M_current, kernel_fil) > 0\n",
    "        M_same = (M == plant)\n",
    "        M_fil_prev = M_fil.copy()\n",
    "        M_fil[M_neighbours&M_same] = '1'\n",
    "    M_current = (M_fil == '1').astype(float)\n",
    "    area = int(M_current.sum())\n",
    "    M_edge = apply_convolution(M_current, kernel_neighbour)\n",
    "    sides = get_sides(M_current, kernel_horizontal_down, kernel_horizontal_up, kernel_vertical_left, kernel_vertical_right)\n",
    "    fil = M_fil == '1'\n",
    "    M_new = M.copy()\n",
    "    M_new[fil] = '0'\n",
    "    return area * sides, M_new"
   ]
  },
  {
   "cell_type": "code",
   "execution_count": 278,
   "id": "a46dd064-6a77-4225-a1d1-6a0435d53f90",
   "metadata": {},
   "outputs": [],
   "source": [
    "def get_values2(M, kernel_fil, kernel_neighbour):\n",
    "    A = []\n",
    "    for i in range(M.shape[0]):\n",
    "        A.append(['0' for x in range(M.shape[1])])\n",
    "    A = np.array(A)\n",
    "    scores = 0\n",
    "    while (M != A).sum() > 0:\n",
    "        start = np.where(M != '0')\n",
    "        start = start[0][0], start[1][0]\n",
    "        s, M = get_values_for_one_object2(M, start, kernel_fil, kernel_neighbour)\n",
    "        scores += s\n",
    "    return scores"
   ]
  },
  {
   "cell_type": "code",
   "execution_count": 276,
   "id": "4e873a00-5357-4c9e-89be-863f47f52b4a",
   "metadata": {},
   "outputs": [],
   "source": [
    "def get_sides(M_current, kernel_horizontal_down, kernel_horizontal_up, kernel_vertical_left, kernel_vertical_right):\n",
    "    M_hor1 = apply_convolution(M_current, kernel_horizontal_down) * M_current\n",
    "    M_hor2 = apply_convolution(M_current, kernel_horizontal_up) * M_current\n",
    "    M_ver1 = apply_convolution(M_current, kernel_vertical_left) * M_current\n",
    "    M_ver2 = apply_convolution(M_current, kernel_vertical_right) * M_current\n",
    "    sides = 0\n",
    "    for i in range(M_hor1.shape[0]):\n",
    "        current = 0\n",
    "        for j in range(M_hor1.shape[1]):\n",
    "            if (current==0) & (M_hor1[i, j]==1):\n",
    "                sides+=1\n",
    "            current = M_hor1[i, j]\n",
    "    for i in range(M_hor2.shape[0]):\n",
    "        current = 0\n",
    "        for j in range(M_hor2.shape[1]):\n",
    "            if (current==0) & (M_hor2[i, j]==1):\n",
    "                sides+=1\n",
    "            current = M_hor2[i, j]\n",
    "    for j in range(M_ver1.shape[1]):\n",
    "        current = 0\n",
    "        for i in range(M_ver1.shape[0]):\n",
    "            if (current==0) & (M_ver1[i, j]==1):\n",
    "                sides+=1\n",
    "            current = M_ver1[i, j]\n",
    "    \n",
    "    for j in range(M_ver2.shape[1]):\n",
    "        current = 0\n",
    "        for i in range(M_ver2.shape[0]):\n",
    "            if (current==0) & (M_ver2[i, j]==1):\n",
    "                sides+=1\n",
    "            current = M_ver2[i, j]\n",
    "    return sides"
   ]
  },
  {
   "cell_type": "code",
   "execution_count": 279,
   "id": "3bf79315-bf4e-426c-a226-baeb7aadbcf4",
   "metadata": {},
   "outputs": [
    {
     "data": {
      "text/plain": [
       "1206"
      ]
     },
     "execution_count": 279,
     "metadata": {},
     "output_type": "execute_result"
    }
   ],
   "source": [
    "s = 'RRRRIICCFF\\nRRRRIICCCF\\nVVRRRCCFFF\\nVVRCCCJFFF\\nVVVVCJJCFE\\nVVIVCCJJEE\\nVVIIICJJEE\\nMIIIIIJJEE\\nMIIISIJEEE\\nMMMISSJEEE\\n'\n",
    "M = read_M(s)\n",
    "get_values2(M, kernel_fil, kernel_neighbour)"
   ]
  },
  {
   "cell_type": "code",
   "execution_count": 280,
   "id": "7ff9f665-97d4-4949-a3cd-208b5afede17",
   "metadata": {},
   "outputs": [
    {
     "data": {
      "text/plain": [
       "893790"
      ]
     },
     "execution_count": 280,
     "metadata": {},
     "output_type": "execute_result"
    }
   ],
   "source": [
    "with open('../data/d12.txt') as fin:\n",
    "    s = fin.read()\n",
    "M = read_M(s)\n",
    "get_values2(M, kernel_fil, kernel_neighbour)"
   ]
  },
  {
   "cell_type": "code",
   "execution_count": 253,
   "id": "080ea9f9-a032-403b-8408-256698b3db0d",
   "metadata": {},
   "outputs": [],
   "source": [
    "M_current = (M_fil == '1').astype(float)\n",
    "M_hor1 = apply_convolution(M_current, kernel_horizontal_down) * M_current\n",
    "M_hor2 = apply_convolution(M_current, kernel_horizontal_up) * M_current\n",
    "M_ver1 = apply_convolution(M_current, kernel_vertical_left) * M_current\n",
    "M_ver2 = apply_convolution(M_current, kernel_vertical_right) * M_current"
   ]
  }
 ],
 "metadata": {
  "kernelspec": {
   "display_name": "Python (pytorch-metal)",
   "language": "python",
   "name": "pytorch"
  },
  "language_info": {
   "codemirror_mode": {
    "name": "ipython",
    "version": 3
   },
   "file_extension": ".py",
   "mimetype": "text/x-python",
   "name": "python",
   "nbconvert_exporter": "python",
   "pygments_lexer": "ipython3",
   "version": "3.10.7"
  }
 },
 "nbformat": 4,
 "nbformat_minor": 5
}
