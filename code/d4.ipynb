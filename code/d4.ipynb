{
 "cells": [
  {
   "cell_type": "code",
   "execution_count": 75,
   "id": "dcabf375-c9c2-468b-9547-49e8ed9cfb5e",
   "metadata": {},
   "outputs": [],
   "source": [
    "import numpy as np"
   ]
  },
  {
   "cell_type": "markdown",
   "id": "ecb9710d-1d8c-4efa-939f-204e414b3819",
   "metadata": {},
   "source": [
    "### Problem 1"
   ]
  },
  {
   "cell_type": "code",
   "execution_count": 179,
   "id": "257df323-80e1-49de-8da5-3150a131c488",
   "metadata": {},
   "outputs": [],
   "source": [
    "s = 'MMMSXXMASM\\nMSAMXMSMSA\\nAMXSXMAAMM\\nMSAMASMSMX\\nXMASAMXAMM\\nXXAMMXXAMA\\nSMSMSASXSS\\nSAXAMASAAA\\nMAMMMXMMMM\\nMXMXAXMASX'"
   ]
  },
  {
   "cell_type": "code",
   "execution_count": 180,
   "id": "394d8f81-076e-4dac-b4ea-d634d1306f13",
   "metadata": {},
   "outputs": [],
   "source": [
    "def create_matrix(s):\n",
    "    M = []\n",
    "    for l in s.split('\\n'):\n",
    "        M.append(list(l))\n",
    "    return np.array(M)"
   ]
  },
  {
   "cell_type": "code",
   "execution_count": 181,
   "id": "0c3e351b-2327-4a2b-9222-e5e0f18064ae",
   "metadata": {},
   "outputs": [],
   "source": [
    "t = 'XMAS'"
   ]
  },
  {
   "cell_type": "code",
   "execution_count": 182,
   "id": "83ea81ca-42fb-4afa-8ec3-d6931d85441f",
   "metadata": {},
   "outputs": [
    {
     "data": {
      "text/plain": [
       "array([['M', 'M', 'M', 'S', 'X', 'X', 'M', 'A', 'S', 'M'],\n",
       "       ['M', 'S', 'A', 'M', 'X', 'M', 'S', 'M', 'S', 'A'],\n",
       "       ['A', 'M', 'X', 'S', 'X', 'M', 'A', 'A', 'M', 'M'],\n",
       "       ['M', 'S', 'A', 'M', 'A', 'S', 'M', 'S', 'M', 'X'],\n",
       "       ['X', 'M', 'A', 'S', 'A', 'M', 'X', 'A', 'M', 'M'],\n",
       "       ['X', 'X', 'A', 'M', 'M', 'X', 'X', 'A', 'M', 'A'],\n",
       "       ['S', 'M', 'S', 'M', 'S', 'A', 'S', 'X', 'S', 'S'],\n",
       "       ['S', 'A', 'X', 'A', 'M', 'A', 'S', 'A', 'A', 'A'],\n",
       "       ['M', 'A', 'M', 'M', 'M', 'X', 'M', 'M', 'M', 'M'],\n",
       "       ['M', 'X', 'M', 'X', 'A', 'X', 'M', 'A', 'S', 'X']], dtype='<U1')"
      ]
     },
     "execution_count": 182,
     "metadata": {},
     "output_type": "execute_result"
    }
   ],
   "source": [
    "M = create_matrix(s)\n",
    "M"
   ]
  },
  {
   "cell_type": "code",
   "execution_count": 152,
   "id": "6afa2252-7d35-4684-bf91-be2df7ad2987",
   "metadata": {},
   "outputs": [],
   "source": [
    "def count_xmas(M, t):\n",
    "    n = 0\n",
    "    ### rows\n",
    "    for i in range(M.shape[0]):\n",
    "        n += ''.join(M[i]).count(t)\n",
    "        n += ''.join(M[i])[::-1].count(t)\n",
    "    ### columns    \n",
    "    for j in range(M.shape[1]):\n",
    "        n += ''.join(M[:, j]).count(t)\n",
    "        n += ''.join(M[:, j])[::-1].count(t)\n",
    "    ### diagonal\n",
    "    for i in range(M.shape[0]):\n",
    "        diag = ''\n",
    "        i_current = i\n",
    "        j_current = 0\n",
    "        while ((i_current < M.shape[0]) & (j_current < M.shape[1])):\n",
    "            diag += M[i_current, j_current]\n",
    "            i_current += 1\n",
    "            j_current += 1\n",
    "        n += diag.count(t)\n",
    "        n += diag[::-1].count(t)\n",
    "        \n",
    "        diag = ''\n",
    "        i_current = i\n",
    "        j_current = 0\n",
    "        while ((i_current >= 0) & (j_current < M.shape[1])):\n",
    "            diag += M[i_current, j_current]\n",
    "            i_current += -1\n",
    "            j_current += 1\n",
    "        n += diag.count(t)\n",
    "        n += diag[::-1].count(t)\n",
    "    for j in range(1, M.shape[1]):\n",
    "        diag = ''\n",
    "        i_current = 0\n",
    "        j_current = j\n",
    "        while ((i_current < M.shape[0]) & (j_current < M.shape[1])):\n",
    "            diag += M[i_current, j_current]\n",
    "            i_current += 1\n",
    "            j_current += 1\n",
    "        n += diag.count(t)\n",
    "        n += diag[::-1].count(t)\n",
    "    \n",
    "        diag = ''\n",
    "        i_current = M.shape[0] - 1\n",
    "        j_current = j\n",
    "        while ((i_current >= 0) & (j_current < M.shape[1])):\n",
    "            diag += M[i_current, j_current]\n",
    "            i_current += -1\n",
    "            j_current += 1\n",
    "        n += diag.count(t)\n",
    "        n += diag[::-1].count(t)\n",
    "    return n"
   ]
  },
  {
   "cell_type": "code",
   "execution_count": 154,
   "id": "35257d82-d339-452a-b37a-6cb5b537610d",
   "metadata": {},
   "outputs": [],
   "source": [
    "with open('../data/d4.txt') as fin:\n",
    "    s = fin.read()"
   ]
  },
  {
   "cell_type": "code",
   "execution_count": 162,
   "id": "dabe3c11-1c27-4577-af87-ca2b0afc2746",
   "metadata": {},
   "outputs": [],
   "source": [
    "M = create_matrix(s[:-1])"
   ]
  },
  {
   "cell_type": "code",
   "execution_count": 165,
   "id": "bed933df-2505-4d55-b29d-5d60723309b8",
   "metadata": {},
   "outputs": [
    {
     "data": {
      "text/plain": [
       "2464"
      ]
     },
     "execution_count": 165,
     "metadata": {},
     "output_type": "execute_result"
    }
   ],
   "source": [
    "count_xmas(M, t)"
   ]
  },
  {
   "cell_type": "markdown",
   "id": "c6fe40c3-1e55-4c49-9699-2cc8ff4c5f94",
   "metadata": {},
   "source": [
    "### Problem 2"
   ]
  },
  {
   "cell_type": "code",
   "execution_count": 177,
   "id": "6a691633-3dd8-483a-ad91-a00f9ecaf287",
   "metadata": {},
   "outputs": [],
   "source": [
    "xmas_kernels = []\n",
    "xmas_kernels.append(\n",
    "    np.array([['M', '.', 'M'],\n",
    "          ['.', 'A', '.'],\n",
    "          ['S', '.', 'S']\n",
    "         ])\n",
    ")\n",
    "\n",
    "xmas_kernels.append(\n",
    "    np.array([['M', '.', 'S'],\n",
    "          ['.', 'A', '.'],\n",
    "          ['M', '.', 'S']\n",
    "         ])\n",
    ")\n",
    "\n",
    "xmas_kernels.append(\n",
    "    np.array([['S', '.', 'S'],\n",
    "          ['.', 'A', '.'],\n",
    "          ['M', '.', 'M']\n",
    "         ])\n",
    ")\n",
    "\n",
    "xmas_kernels.append(\n",
    "    np.array([['S', '.', 'M'],\n",
    "          ['.', 'A', '.'],\n",
    "          ['S', '.', 'M']\n",
    "         ])\n",
    ")"
   ]
  },
  {
   "cell_type": "code",
   "execution_count": 200,
   "id": "cd2809d3-3704-4531-bde2-88f1c35b0a27",
   "metadata": {},
   "outputs": [],
   "source": [
    "def count_x_max(M, xmas_kernels):\n",
    "    n = 0\n",
    "    for i in range(0, M.shape[0] - 2):\n",
    "        for j in range(0, M.shape[1] - 2):\n",
    "            temp = M[i:i+3, j:j+3].copy()\n",
    "            temp[0, 1] = '.'\n",
    "            temp[1, 0] = '.'\n",
    "            temp[1, 2] = '.'\n",
    "            temp[2, 1] = '.'\n",
    "            for k in xmas_kernels:\n",
    "                if (temp == k).sum() == 9:\n",
    "                    n += 1\n",
    "    return n"
   ]
  },
  {
   "cell_type": "code",
   "execution_count": 198,
   "id": "d1a5bc3a-7486-4f33-b3e9-0863c05a4b32",
   "metadata": {},
   "outputs": [],
   "source": [
    "n = 0\n",
    "for i in range(0, M.shape[0] - 2):\n",
    "    for j in range(0, M.shape[1] - 2):\n",
    "        temp = M[i:i+3, j:j+3].copy()\n",
    "        temp[0, 1] = '.'\n",
    "        temp[1, 0] = '.'\n",
    "        temp[1, 2] = '.'\n",
    "        temp[2, 1] = '.'\n",
    "        for k in xmas_kernels:\n",
    "            if (temp == k).sum() == 9:\n",
    "                n += 1"
   ]
  },
  {
   "cell_type": "code",
   "execution_count": 201,
   "id": "92436c65-878f-4bd4-9d75-f683c8918dec",
   "metadata": {},
   "outputs": [
    {
     "data": {
      "text/plain": [
       "9"
      ]
     },
     "execution_count": 201,
     "metadata": {},
     "output_type": "execute_result"
    }
   ],
   "source": [
    "count_x_max(M, xmas_kernels)"
   ]
  },
  {
   "cell_type": "code",
   "execution_count": 202,
   "id": "8fab0c87-72c6-4c8e-87e6-0217da48d24d",
   "metadata": {},
   "outputs": [],
   "source": [
    "with open('../data/d4.txt') as fin:\n",
    "    s = fin.read()\n",
    "M = create_matrix(s[:-1])"
   ]
  },
  {
   "cell_type": "code",
   "execution_count": 203,
   "id": "cba8d801-6c40-46e8-a987-f44ce5b1e4be",
   "metadata": {},
   "outputs": [
    {
     "data": {
      "text/plain": [
       "1982"
      ]
     },
     "execution_count": 203,
     "metadata": {},
     "output_type": "execute_result"
    }
   ],
   "source": [
    "count_x_max(M, xmas_kernels)"
   ]
  },
  {
   "cell_type": "code",
   "execution_count": null,
   "id": "267dc722-e452-4377-a166-095180b133fb",
   "metadata": {},
   "outputs": [],
   "source": []
  }
 ],
 "metadata": {
  "kernelspec": {
   "display_name": "datascience",
   "language": "python",
   "name": "datascience"
  },
  "language_info": {
   "codemirror_mode": {
    "name": "ipython",
    "version": 3
   },
   "file_extension": ".py",
   "mimetype": "text/x-python",
   "name": "python",
   "nbconvert_exporter": "python",
   "pygments_lexer": "ipython3",
   "version": "3.11.5"
  }
 },
 "nbformat": 4,
 "nbformat_minor": 5
}
