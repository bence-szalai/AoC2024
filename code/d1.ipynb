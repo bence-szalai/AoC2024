{
 "cells": [
  {
   "cell_type": "code",
   "execution_count": 32,
   "id": "e3c26b19-f0e9-4537-b1c4-6eeea455c428",
   "metadata": {},
   "outputs": [],
   "source": [
    "import pandas as pd\n",
    "import numpy as np"
   ]
  },
  {
   "cell_type": "markdown",
   "id": "90839a0b-30ba-4425-9456-30e6e6ca2e0d",
   "metadata": {},
   "source": [
    "### Problem A"
   ]
  },
  {
   "cell_type": "code",
   "execution_count": 37,
   "id": "07290d8d-eaa1-4181-892b-8b3bfdafe2b0",
   "metadata": {},
   "outputs": [
    {
     "name": "stderr",
     "output_type": "stream",
     "text": [
      "/var/folders/0_/zy3sx__16hx66rkxp44gqgq40000gn/T/ipykernel_60316/1239918634.py:1: ParserWarning: Falling back to the 'python' engine because the 'c' engine does not support regex separators (separators > 1 char and different from '\\s+' are interpreted as regex); you can avoid this warning by specifying engine='python'.\n",
      "  data = pd.read_csv(\n"
     ]
    }
   ],
   "source": [
    "data = pd.read_csv(\n",
    "    '../data/d1.txt',\n",
    "    header=None,\n",
    "    sep='   '\n",
    ")\n",
    "data.columns = ['l1', 'l2']"
   ]
  },
  {
   "cell_type": "code",
   "execution_count": 38,
   "id": "8907cca5-09e2-4f55-b5f8-e5af3eac3afc",
   "metadata": {},
   "outputs": [],
   "source": [
    "l1 = data['l1'].sort_values().values\n",
    "l2 = data['l2'].sort_values().values"
   ]
  },
  {
   "cell_type": "code",
   "execution_count": 39,
   "id": "692eb2b9-4f6f-4dd6-ada5-9916bc2cc114",
   "metadata": {},
   "outputs": [
    {
     "data": {
      "text/plain": [
       "1603498"
      ]
     },
     "execution_count": 39,
     "metadata": {},
     "output_type": "execute_result"
    }
   ],
   "source": [
    "np.abs((l1 - l2)).sum()"
   ]
  },
  {
   "cell_type": "markdown",
   "id": "8492b41e-acf9-4444-a4bb-da2c9b419387",
   "metadata": {},
   "source": [
    "### Problem B"
   ]
  },
  {
   "cell_type": "code",
   "execution_count": 41,
   "id": "04e589b3-e993-404e-b52e-0cf60267a302",
   "metadata": {},
   "outputs": [],
   "source": [
    "c2 = data['l2'].value_counts()"
   ]
  },
  {
   "cell_type": "code",
   "execution_count": 46,
   "id": "11890994-8227-4507-8b2d-67bc399145cd",
   "metadata": {},
   "outputs": [],
   "source": [
    "s = 0\n",
    "for i in l1:\n",
    "    if i in c2.index:\n",
    "        s += i * c2[i]"
   ]
  },
  {
   "cell_type": "code",
   "execution_count": 47,
   "id": "683d5858-e28f-477f-b40e-b1e264edfbf2",
   "metadata": {},
   "outputs": [
    {
     "data": {
      "text/plain": [
       "25574739"
      ]
     },
     "execution_count": 47,
     "metadata": {},
     "output_type": "execute_result"
    }
   ],
   "source": [
    "s"
   ]
  }
 ],
 "metadata": {
  "kernelspec": {
   "display_name": "datascience",
   "language": "python",
   "name": "datascience"
  },
  "language_info": {
   "codemirror_mode": {
    "name": "ipython",
    "version": 3
   },
   "file_extension": ".py",
   "mimetype": "text/x-python",
   "name": "python",
   "nbconvert_exporter": "python",
   "pygments_lexer": "ipython3",
   "version": "3.11.5"
  }
 },
 "nbformat": 4,
 "nbformat_minor": 5
}
