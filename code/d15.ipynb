{
 "cells": [
  {
   "cell_type": "code",
   "execution_count": 1,
   "id": "61198ae9-7cef-4415-b2d6-958e8a20faab",
   "metadata": {},
   "outputs": [],
   "source": [
    "import numpy as np"
   ]
  },
  {
   "cell_type": "code",
   "execution_count": 28,
   "id": "3237e0d3-1dee-4e92-825f-bf6bb39ff528",
   "metadata": {},
   "outputs": [],
   "source": [
    "s1 = '##########\\n#..O..O.O#\\n#......O.#\\n#.OO..O.O#\\n#..O@..O.#\\n#O#..O...#\\n#O..O..O.#\\n#.OO.O.OO#\\n#....O...#\\n##########\\n<vv>^<v^>v>^vv^v>v<>v^v<v<^vv<<<^><<><>>v<vvv<>^v^>^<<<><<v<<<v^vv^v>^vvv<<^>^v^^><<>>><>^<<><^vv^^<>vvv<>><^^v>^>vv<>v<<<<v<^v>^<^^>>>^<v<v><>vv>v^v^<>><>>>><^^>vv>v<^^^>>v^v^<^^>v^^>v^<^v>v<>>v^v^<v>v^^<^^vv<<<v<^>>^^^^>>>v^<>vvv^><v<<<>^^^vv^<vvv>^>v<^^^^v<>^>vvvv><>>v^<<^^^^^^><^><>>><>^^<<^^v>>><^<v>^<vv>>v>>>^v><>^v><<<<v>>v<v<v>vvv>^<><<>^><^>><>^v<><^vvv<^^<><v<<<<<><^v<<<><<<^^<v<^^^><^>>^<v^><<<^>>^v<v^v<v^>^>>^v>vv>^<<^v<>><<><<v<<v><>v<^vv<<<>^^v^>^^>>><<^v>>v^v><^^>>^<>vv^<><^^>^^^<><vvvvv^v<v<<>^v<v>v<<^><<><<><<<^^<<<^<<>><<><^^^>^^<>^>v<>^^>vv<^v^v<vv>^<><v<^v>^^^>>>^^vvv^>vvv<>>>^<^>>>>>^<<^v>^vvv<>^<><<v>v^^>>><<^^<>>^v^<v^vv<>v^<<>^<^v^v><^<<<><<^<v><v<>vv>>v><v^<vv<>v^<<^'"
   ]
  },
  {
   "cell_type": "code",
   "execution_count": 29,
   "id": "bde900a0-e086-4f99-85bd-18c1f033724b",
   "metadata": {},
   "outputs": [],
   "source": [
    "with open('../data/d15.txt') as fin:\n",
    "    s2 = fin.read()"
   ]
  },
  {
   "cell_type": "code",
   "execution_count": 49,
   "id": "2021e951-aa47-4c28-a925-acaf88d3c38d",
   "metadata": {},
   "outputs": [],
   "source": [
    "def read_data(s):\n",
    "    L = s.split()\n",
    "    M = []\n",
    "    steps = ''\n",
    "    for line in L:\n",
    "        if line[0] == '#':\n",
    "            M.append(list(line))\n",
    "        else:\n",
    "            steps += line\n",
    "    return np.array(M), steps"
   ]
  },
  {
   "cell_type": "code",
   "execution_count": 64,
   "id": "bae69b67-babe-437c-9e1f-79b4bda54977",
   "metadata": {},
   "outputs": [],
   "source": [
    "DIR = {\n",
    "    '<' : np.array([0, -1]),\n",
    "    '>' : np.array([0, 1]),\n",
    "    '^' : np.array([-1, 0]),\n",
    "    'v' : np.array([1, 0]),\n",
    "}\n",
    "LARGE = {\n",
    "    '[' : np.array([0, 1]),\n",
    "    ']' : np.array([1, -1])\n",
    "}"
   ]
  },
  {
   "cell_type": "code",
   "execution_count": 51,
   "id": "6a491027-3bf8-480c-a439-aee37ed250cb",
   "metadata": {},
   "outputs": [],
   "source": [
    "def one_step(M, c, d):\n",
    "    \"\"\"M:  map, c: current position, d: direction\"\"\"\n",
    "    ### new position\n",
    "    n = c + d\n",
    "    if M[n[0], n[1]] == '#':\n",
    "        return M, c\n",
    "    if M[n[0], n[1]] == '.':\n",
    "        M[c[0], c[1]] = '.'\n",
    "        M[n[0], n[1]] = '@'\n",
    "        return M, n\n",
    "    if M[n[0], n[1]] == 'O':\n",
    "        s = n.copy()\n",
    "        while True:\n",
    "            #shadow position\n",
    "            s = s + d\n",
    "            if M[s[0], s[1]] == '.':\n",
    "                M[s[0], s[1]] = 'O'\n",
    "                M[c[0], c[1]] = '.'\n",
    "                M[n[0], n[1]] = '@'\n",
    "                return M, n\n",
    "            if M[s[0], s[1]] == '#':\n",
    "                return M, c"
   ]
  },
  {
   "cell_type": "code",
   "execution_count": 52,
   "id": "acfad0b3-e315-4208-aa1d-377729cd2203",
   "metadata": {},
   "outputs": [],
   "source": [
    "def calculate_score(M):\n",
    "    i, j = np.where(M=='O')\n",
    "    score = 0\n",
    "    for k in range(len(i)):\n",
    "        score = score + i[k] * 100 + j[k]\n",
    "    return score"
   ]
  },
  {
   "cell_type": "code",
   "execution_count": 58,
   "id": "75d2e29f-0064-4914-a7ad-289b0f844832",
   "metadata": {},
   "outputs": [],
   "source": [
    "def resize_map(M):\n",
    "    M_new = []\n",
    "    for i in range(M.shape[0]):\n",
    "        L = []\n",
    "        for x in M[i]:\n",
    "            if x=='.':\n",
    "                L += ['.', '.']\n",
    "            elif x=='#':\n",
    "                L += ['#', '#']\n",
    "            elif x=='@':\n",
    "                L += ['@', '.']\n",
    "            elif x=='O':\n",
    "                L += ['[', ']']\n",
    "        M_new.append(L.copy())\n",
    "    return np.array(M_new)"
   ]
  },
  {
   "cell_type": "code",
   "execution_count": null,
   "id": "9e08009c-99fd-4f63-8256-e34eb3f6155e",
   "metadata": {},
   "outputs": [],
   "source": [
    "def one_step_large(M, c, d):\n",
    "    \"\"\"M:  map, c: current position, d: direction\"\"\"\n",
    "    ### new position\n",
    "    n = c + d\n",
    "    if M[n[0], n[1]] == '#':\n",
    "        return M, c\n",
    "    if M[n[0], n[1]] == '.':\n",
    "        M[c[0], c[1]] = '.'\n",
    "        M[n[0], n[1]] = '@'\n",
    "        return M, n\n",
    "    if M[n[0], n[1]] in ['[', ']']:\n",
    "        moving = [n, n]\n",
    "        while True:\n",
    "            #shadow position\n",
    "            s = s + d\n",
    "            if M[s[0], s[1]] == '.':\n",
    "                M[s[0], s[1]] = 'O'\n",
    "                M[c[0], c[1]] = '.'\n",
    "                M[n[0], n[1]] = '@'\n",
    "                return M, n\n",
    "            if M[s[0], s[1]] == '#':\n",
    "                return M, c"
   ]
  },
  {
   "cell_type": "code",
   "execution_count": 53,
   "id": "2c2c365d-de85-4feb-bd44-22237544e192",
   "metadata": {},
   "outputs": [
    {
     "data": {
      "text/plain": [
       "10092"
      ]
     },
     "execution_count": 53,
     "metadata": {},
     "output_type": "execute_result"
    }
   ],
   "source": [
    "M, steps = read_data(s1)\n",
    "start = np.where(M == '@')\n",
    "c = np.array([start[0][0], start[1][0]])\n",
    "for i in range(len(steps)):\n",
    "    M, c = one_step(M, c, DIR[steps[i]])\n",
    "calculate_score(M)"
   ]
  },
  {
   "cell_type": "code",
   "execution_count": 54,
   "id": "b3ee21b3-4de7-4d04-b2ac-c969cf2183e9",
   "metadata": {},
   "outputs": [
    {
     "data": {
      "text/plain": [
       "1383666"
      ]
     },
     "execution_count": 54,
     "metadata": {},
     "output_type": "execute_result"
    }
   ],
   "source": [
    "M, steps = read_data(s2)\n",
    "start = np.where(M == '@')\n",
    "c = np.array([start[0][0], start[1][0]])\n",
    "for i in range(len(steps)):\n",
    "    M, c = one_step(M, c, DIR[steps[i]])\n",
    "calculate_score(M)"
   ]
  },
  {
   "cell_type": "code",
   "execution_count": 59,
   "id": "ef28a58d-e575-4f0d-b73a-1965b53d6225",
   "metadata": {},
   "outputs": [],
   "source": [
    "M, steps = read_data(s1)\n",
    "M = resize_map(M)"
   ]
  },
  {
   "cell_type": "code",
   "execution_count": 63,
   "id": "fadddf48-6ca8-4e45-a455-bc12274e2be2",
   "metadata": {},
   "outputs": [
    {
     "data": {
      "text/plain": [
       "False"
      ]
     },
     "execution_count": 63,
     "metadata": {},
     "output_type": "execute_result"
    }
   ],
   "source": [
    "'[' in ['1', ']']"
   ]
  },
  {
   "cell_type": "code",
   "execution_count": null,
   "id": "fd562b94-e072-43a8-afdc-c2e6c27a060a",
   "metadata": {},
   "outputs": [],
   "source": []
  }
 ],
 "metadata": {
  "kernelspec": {
   "display_name": "datascience",
   "language": "python",
   "name": "datascience"
  },
  "language_info": {
   "codemirror_mode": {
    "name": "ipython",
    "version": 3
   },
   "file_extension": ".py",
   "mimetype": "text/x-python",
   "name": "python",
   "nbconvert_exporter": "python",
   "pygments_lexer": "ipython3",
   "version": "3.11.5"
  }
 },
 "nbformat": 4,
 "nbformat_minor": 5
}
