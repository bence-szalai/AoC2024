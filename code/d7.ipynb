{
 "cells": [
  {
   "cell_type": "code",
   "execution_count": 219,
   "id": "54cd0601-6682-4269-bb73-fa4be07243a7",
   "metadata": {},
   "outputs": [],
   "source": [
    "s = '190: 10 19\\n3267: 81 40 27\\n83: 17 5\\n156: 15 6\\n7290: 6 8 6 15\\n161011: 16 10 13\\n192: 17 8 14\\n21037: 9 7 18 13\\n292: 11 6 16 20'"
   ]
  },
  {
   "cell_type": "markdown",
   "id": "4ca7a870-5663-42e2-9b62-2bb070817dff",
   "metadata": {},
   "source": [
    "### Problem1"
   ]
  },
  {
   "cell_type": "code",
   "execution_count": 211,
   "id": "69c2da72-8f29-40e2-813a-0ce068777428",
   "metadata": {},
   "outputs": [],
   "source": [
    "def solve_one(current, target, remaining, operators):\n",
    "    if remaining == []:\n",
    "        if current == target:\n",
    "            return True, operators\n",
    "        else:\n",
    "            return False, []\n",
    "    if current > target:\n",
    "        return False, []\n",
    "    current_next_mul = current * remaining[0]\n",
    "    current_next_add = current + remaining[0]\n",
    "    a = solve_one(current_next_mul, target, remaining[1:], operators + ['*'])\n",
    "    b = solve_one(current_next_add, target, remaining[1:], operators + ['+'])\n",
    "    if a[0]:\n",
    "        return a[0], a[1]\n",
    "    elif b[0]:\n",
    "        return b[0], b[1]\n",
    "    else:\n",
    "        return False, []"
   ]
  },
  {
   "cell_type": "code",
   "execution_count": 212,
   "id": "3a3d43a1-2e28-4a82-a5cc-3907a170b4f1",
   "metadata": {},
   "outputs": [],
   "source": [
    "def solve(data):\n",
    "    n = 0\n",
    "    for sample in data:\n",
    "        target = int(sample.split(':')[0])\n",
    "        remaining = [int(x) for x in sample.split()[1:]]\n",
    "        ans = solve_one(remaining[0], target, remaining[1:], [])\n",
    "        if ans[0]:\n",
    "            n += target\n",
    "            #print(sample, ans[1])\n",
    "    return n"
   ]
  },
  {
   "cell_type": "code",
   "execution_count": 213,
   "id": "175c2d82-ea25-4758-ab47-9b9ee7665e8b",
   "metadata": {},
   "outputs": [],
   "source": [
    "data = s.split('\\n')"
   ]
  },
  {
   "cell_type": "code",
   "execution_count": 214,
   "id": "269bd771-3cab-4783-8b23-44c96a076663",
   "metadata": {},
   "outputs": [
    {
     "data": {
      "text/plain": [
       "3749"
      ]
     },
     "execution_count": 214,
     "metadata": {},
     "output_type": "execute_result"
    }
   ],
   "source": [
    "solve(data)"
   ]
  },
  {
   "cell_type": "code",
   "execution_count": 215,
   "id": "3f214df2-da9a-4871-9019-f672dcc13026",
   "metadata": {},
   "outputs": [],
   "source": [
    "with open('../data/d7.txt') as fin:\n",
    "    s = fin.read()[:-1]"
   ]
  },
  {
   "cell_type": "code",
   "execution_count": 216,
   "id": "fdd2b3e8-8201-4e03-a9e2-a985f825c44c",
   "metadata": {},
   "outputs": [],
   "source": [
    "data = s.split('\\n')"
   ]
  },
  {
   "cell_type": "code",
   "execution_count": 217,
   "id": "90f40f60-8438-4ee0-a57c-0f90cac0e4cd",
   "metadata": {},
   "outputs": [
    {
     "data": {
      "text/plain": [
       "10741443549536"
      ]
     },
     "execution_count": 217,
     "metadata": {},
     "output_type": "execute_result"
    }
   ],
   "source": [
    "solve(data)"
   ]
  },
  {
   "cell_type": "markdown",
   "id": "82254ea6-7207-48a5-afdf-699411c79ed4",
   "metadata": {},
   "source": [
    "### Problem2"
   ]
  },
  {
   "cell_type": "code",
   "execution_count": 233,
   "id": "5cb25d75-227b-411c-ab3f-e567ff436a5a",
   "metadata": {},
   "outputs": [],
   "source": [
    "def solve_one2(current, target, remaining, operators):\n",
    "    if remaining == []:\n",
    "        if current == target:\n",
    "            return True, operators\n",
    "        else:\n",
    "            return False, []\n",
    "    if current > target:\n",
    "        return False, []\n",
    "    current_next_mul = current * remaining[0]\n",
    "    current_next_add = current + remaining[0]\n",
    "    current_next_con = int(str(current) + str(remaining[0]))\n",
    "    a = solve_one2(current_next_mul, target, remaining[1:], operators + ['*'])\n",
    "    b = solve_one2(current_next_add, target, remaining[1:], operators + ['+'])\n",
    "    c = solve_one2(current_next_con, target, remaining[1:], operators + ['||'])\n",
    "    if a[0]:\n",
    "        return a[0], a[1]\n",
    "    elif b[0]:\n",
    "        return b[0], b[1]\n",
    "    elif c[0]:\n",
    "        return c[0], c[1]\n",
    "    else:\n",
    "        return False, []"
   ]
  },
  {
   "cell_type": "code",
   "execution_count": 238,
   "id": "95153ec0-caa0-43e6-9ede-fcd00e2f1b28",
   "metadata": {},
   "outputs": [],
   "source": [
    "def solve2(data):\n",
    "    n = 0\n",
    "    for sample in data:\n",
    "        target = int(sample.split(':')[0])\n",
    "        remaining = [int(x) for x in sample.split()[1:]]\n",
    "        ans = solve_one2(remaining[0], target, remaining[1:], [])\n",
    "        if ans[0]:\n",
    "            n += target\n",
    "            #print(sample, ans[1])\n",
    "    return n"
   ]
  },
  {
   "cell_type": "code",
   "execution_count": 239,
   "id": "58e5c82c-19f0-4aac-a202-fde9a7864a5a",
   "metadata": {},
   "outputs": [],
   "source": [
    "data = s.split('\\n')"
   ]
  },
  {
   "cell_type": "code",
   "execution_count": 240,
   "id": "b3c1868b-fdfd-42f5-97cc-04d77b483fab",
   "metadata": {},
   "outputs": [
    {
     "data": {
      "text/plain": [
       "11387"
      ]
     },
     "execution_count": 240,
     "metadata": {},
     "output_type": "execute_result"
    }
   ],
   "source": [
    "solve2(data)"
   ]
  },
  {
   "cell_type": "code",
   "execution_count": 241,
   "id": "96b5803c-183f-4448-a9f9-61b3033fd2f9",
   "metadata": {},
   "outputs": [],
   "source": [
    "with open('../data/d7.txt') as fin:\n",
    "    s = fin.read()[:-1]"
   ]
  },
  {
   "cell_type": "code",
   "execution_count": 242,
   "id": "2844077c-500f-4cfe-ac86-92c3ebfa73ce",
   "metadata": {},
   "outputs": [],
   "source": [
    "data = s.split('\\n')"
   ]
  },
  {
   "cell_type": "code",
   "execution_count": 243,
   "id": "8432705d-b6cc-415e-8f67-369cd9fb3f91",
   "metadata": {},
   "outputs": [
    {
     "data": {
      "text/plain": [
       "500335179214836"
      ]
     },
     "execution_count": 243,
     "metadata": {},
     "output_type": "execute_result"
    }
   ],
   "source": [
    "solve2(data)"
   ]
  },
  {
   "cell_type": "code",
   "execution_count": null,
   "id": "99125f95-bdc7-423b-a71f-3ad27687cad2",
   "metadata": {},
   "outputs": [],
   "source": []
  }
 ],
 "metadata": {
  "kernelspec": {
   "display_name": "datascience",
   "language": "python",
   "name": "datascience"
  },
  "language_info": {
   "codemirror_mode": {
    "name": "ipython",
    "version": 3
   },
   "file_extension": ".py",
   "mimetype": "text/x-python",
   "name": "python",
   "nbconvert_exporter": "python",
   "pygments_lexer": "ipython3",
   "version": "3.11.5"
  }
 },
 "nbformat": 4,
 "nbformat_minor": 5
}
