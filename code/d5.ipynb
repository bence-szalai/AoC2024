{
 "cells": [
  {
   "cell_type": "markdown",
   "id": "a4d66af7-1317-4a59-a91c-3a9939826c85",
   "metadata": {},
   "source": [
    "### Problem 1"
   ]
  },
  {
   "cell_type": "code",
   "execution_count": 62,
   "id": "8b0738ed-4451-4232-9c23-3067973ae8c6",
   "metadata": {},
   "outputs": [],
   "source": [
    "s = '47|53\\n97|13\\n97|61\\n97|47\\n75|29\\n61|13\\n75|53\\n29|13\\n97|29\\n53|29\\n61|53\\n97|53\\n61|29\\n47|13\\n75|47\\n97|75\\n47|61\\n75|61\\n47|29\\n75|13\\n53|13\\n\\n75,47,61,53,29\\n97,61,53,29,13\\n75,29,13\\n75,97,47,61,53\\n61,13,29\\n97,13,75,29,47'"
   ]
  },
  {
   "cell_type": "code",
   "execution_count": 63,
   "id": "2cb22a4d-dd51-456b-a4f4-f1bfd114c9a4",
   "metadata": {},
   "outputs": [],
   "source": [
    "def make_rules_and_data(s):\n",
    "    rules = {}\n",
    "    data = []\n",
    "    for line in s.split():\n",
    "        if '|' in line:\n",
    "            n1, n2 = line.split('|')\n",
    "            try:\n",
    "                rules[int(n1)].append(int(n2))\n",
    "            except:\n",
    "                rules[int(n1)] = [int(n2)]\n",
    "        else:\n",
    "            sample = [int(x) for x in line.split(',')]\n",
    "            data.append(sample)\n",
    "    return rules, data"
   ]
  },
  {
   "cell_type": "code",
   "execution_count": 64,
   "id": "e9f28916-a286-4f74-96e9-560bab2481bf",
   "metadata": {},
   "outputs": [],
   "source": [
    "rules, data = make_rules_and_data(s)"
   ]
  },
  {
   "cell_type": "code",
   "execution_count": 47,
   "id": "e4b11854-21c3-40aa-8af5-fc8fe85abbee",
   "metadata": {},
   "outputs": [],
   "source": [
    "def caluculate_score(data, rules):\n",
    "    n = 0\n",
    "    for sample in data:\n",
    "        good = True\n",
    "        for i in range(len(sample)):\n",
    "            if sample[i] in rules.keys():\n",
    "                for j in range(i):\n",
    "                    if sample[j] in rules[sample[i]]:\n",
    "                        good = False\n",
    "        if good:\n",
    "            n += sample[len(sample) // 2]\n",
    "    "
   ]
  },
  {
   "cell_type": "code",
   "execution_count": 48,
   "id": "8f5ecc49-e629-4dc0-b588-b81292702e65",
   "metadata": {},
   "outputs": [
    {
     "data": {
      "text/plain": [
       "143"
      ]
     },
     "execution_count": 48,
     "metadata": {},
     "output_type": "execute_result"
    }
   ],
   "source": [
    "caluculate_score(data, rules)"
   ]
  },
  {
   "cell_type": "code",
   "execution_count": 49,
   "id": "e467be2b-7310-4399-b36e-6ccb09e7167f",
   "metadata": {},
   "outputs": [],
   "source": [
    "with open('../data/d5.txt') as fin:\n",
    "    s = fin.read()"
   ]
  },
  {
   "cell_type": "code",
   "execution_count": 52,
   "id": "166383a3-2b36-4556-842c-f0112700238c",
   "metadata": {},
   "outputs": [],
   "source": [
    "rules, data = make_rules_and_data(s)"
   ]
  },
  {
   "cell_type": "code",
   "execution_count": 58,
   "id": "c4d15e87-8803-447e-a1ee-e80954add115",
   "metadata": {},
   "outputs": [
    {
     "data": {
      "text/plain": [
       "4135"
      ]
     },
     "execution_count": 58,
     "metadata": {},
     "output_type": "execute_result"
    }
   ],
   "source": [
    "caluculate_score(data, rules)"
   ]
  },
  {
   "cell_type": "markdown",
   "id": "85f7f0f3-7481-45db-a7dc-031089285571",
   "metadata": {},
   "source": [
    "### Problem 2"
   ]
  },
  {
   "cell_type": "code",
   "execution_count": 97,
   "id": "aefa589a-d1bd-46b7-9017-5edfb8eab49a",
   "metadata": {},
   "outputs": [],
   "source": [
    "s = '47|53\\n97|13\\n97|61\\n97|47\\n75|29\\n61|13\\n75|53\\n29|13\\n97|29\\n53|29\\n61|53\\n97|53\\n61|29\\n47|13\\n75|47\\n97|75\\n47|61\\n75|61\\n47|29\\n75|13\\n53|13\\n\\n75,47,61,53,29\\n97,61,53,29,13\\n75,29,13\\n75,97,47,61,53\\n61,13,29\\n97,13,75,29,47'"
   ]
  },
  {
   "cell_type": "code",
   "execution_count": 98,
   "id": "9ab2852f-d770-4f82-b824-bd3152266dff",
   "metadata": {},
   "outputs": [],
   "source": [
    "rules, data = make_rules_and_data(s)"
   ]
  },
  {
   "cell_type": "code",
   "execution_count": 71,
   "id": "25763559-287b-4cf9-b4da-1b3c2cacd364",
   "metadata": {},
   "outputs": [],
   "source": [
    "def get_bads(data, rules):\n",
    "    bads = []\n",
    "    for sample in data:\n",
    "        good = True\n",
    "        for i in range(len(sample)):\n",
    "            if sample[i] in rules.keys():\n",
    "                for j in range(i):\n",
    "                    if sample[j] in rules[sample[i]]:\n",
    "                        good = False\n",
    "        if good:\n",
    "            pass\n",
    "        else:\n",
    "            bads.append(sample)\n",
    "    return bads"
   ]
  },
  {
   "cell_type": "code",
   "execution_count": 73,
   "id": "b70d0218-2c22-4977-81b9-739b6053bef2",
   "metadata": {},
   "outputs": [],
   "source": [
    "bads = get_bads(data, rules)"
   ]
  },
  {
   "cell_type": "code",
   "execution_count": 82,
   "id": "cb2d0538-58d6-4539-8cc8-1e068ecb1244",
   "metadata": {},
   "outputs": [],
   "source": [
    "sample = bads[2]"
   ]
  },
  {
   "cell_type": "code",
   "execution_count": 86,
   "id": "4fe31dd0-d449-4d4c-a67e-43d1e0ed2c62",
   "metadata": {},
   "outputs": [],
   "source": [
    "def reorder_sample(sample, rules):\n",
    "    for i in range(len(sample)):\n",
    "        if sample[i] in rules.keys():\n",
    "            for j in range(i):\n",
    "                if sample[j] in rules[sample[i]]:\n",
    "                    new_sample = sample.copy()\n",
    "                    new_sample[i] = sample[j]\n",
    "                    new_sample[j] = sample[i]\n",
    "                    return reorder_sample(new_sample, rules)\n",
    "    return sample"
   ]
  },
  {
   "cell_type": "code",
   "execution_count": 92,
   "id": "4226b680-b6f7-4af2-9a98-3819746cfbcd",
   "metadata": {},
   "outputs": [],
   "source": [
    "def calculate_score2(data, rules):\n",
    "    bads = get_bads(data, rules)\n",
    "    goods = []\n",
    "    for sample in bads:\n",
    "        goods.append(reorder_sample(sample, rules))\n",
    "    n = 0\n",
    "    for sample in goods:\n",
    "        n += sample[len(sample) // 2]\n",
    "    return n"
   ]
  },
  {
   "cell_type": "code",
   "execution_count": 99,
   "id": "67335635-39a9-44e1-96ed-8c35141ab218",
   "metadata": {},
   "outputs": [
    {
     "data": {
      "text/plain": [
       "123"
      ]
     },
     "execution_count": 99,
     "metadata": {},
     "output_type": "execute_result"
    }
   ],
   "source": [
    "calculate_score2(data, rules)"
   ]
  },
  {
   "cell_type": "code",
   "execution_count": 94,
   "id": "94117a67-fdc4-4ddb-b30d-e353a9bd80d3",
   "metadata": {},
   "outputs": [],
   "source": [
    "with open('../data/d5.txt') as fin:\n",
    "    s = fin.read()"
   ]
  },
  {
   "cell_type": "code",
   "execution_count": 95,
   "id": "0cd76386-5ca2-4772-ac42-4b9f39bf0eba",
   "metadata": {},
   "outputs": [],
   "source": [
    "rules, data = make_rules_and_data(s)"
   ]
  },
  {
   "cell_type": "code",
   "execution_count": 96,
   "id": "26e58b78-2bb3-4b42-b69f-5b788e9b2810",
   "metadata": {},
   "outputs": [
    {
     "data": {
      "text/plain": [
       "5285"
      ]
     },
     "execution_count": 96,
     "metadata": {},
     "output_type": "execute_result"
    }
   ],
   "source": [
    "calculate_score2(data, rules)"
   ]
  },
  {
   "cell_type": "code",
   "execution_count": null,
   "id": "ac9ee2f9-ab8b-4de3-b938-5a946c30cf8b",
   "metadata": {},
   "outputs": [],
   "source": []
  }
 ],
 "metadata": {
  "kernelspec": {
   "display_name": "datascience",
   "language": "python",
   "name": "datascience"
  },
  "language_info": {
   "codemirror_mode": {
    "name": "ipython",
    "version": 3
   },
   "file_extension": ".py",
   "mimetype": "text/x-python",
   "name": "python",
   "nbconvert_exporter": "python",
   "pygments_lexer": "ipython3",
   "version": "3.11.5"
  }
 },
 "nbformat": 4,
 "nbformat_minor": 5
}
