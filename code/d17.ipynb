{
 "cells": [
  {
   "cell_type": "code",
   "execution_count": 384,
   "id": "c48ebac9-b33e-4fc6-9840-b43e4364a052",
   "metadata": {},
   "outputs": [],
   "source": [
    "class ChronospatialComputer:\n",
    "    def __init__(self, registers, program):\n",
    "        self.register = {}\n",
    "        self.register['A'] = registers[0]\n",
    "        self.register['B'] = registers[1]\n",
    "        self.register['C'] = registers[2]\n",
    "        self.instruction_list = program\n",
    "        self.instruction_pointer = 0\n",
    "        self.combo = {\n",
    "            0 : 0,\n",
    "            1 : 1,\n",
    "            2 : 2,\n",
    "            3 : 3,\n",
    "            4 : self.register['A'],\n",
    "            5 : self.register['B'],\n",
    "            6 : self.register['C']\n",
    "        }\n",
    "        self.instruction = {\n",
    "            0 : self.adv,\n",
    "            1 : self.bxl,\n",
    "            2 : self.bst,\n",
    "            3 : self.jnz,\n",
    "            4 : self.bxc,\n",
    "            5 : self.out,\n",
    "            6 : self.bdv,\n",
    "            7 : self.cdv\n",
    "        }\n",
    "        self.output = []\n",
    "    def adv(self, o):\n",
    "        self.register['A'] = int(self.register['A'] / 2**(self.combo[o]))\n",
    "        self.combo[4] = self.register['A']\n",
    "        self.instruction_pointer += 2\n",
    "    def bxl(self, o):\n",
    "        self.register['B'] = self.register['B'] ^ o\n",
    "        self.combo[5] = self.register['B']\n",
    "        self.instruction_pointer += 2\n",
    "    def bst(self, o):\n",
    "        self.register['B'] = self.combo[o] % 8\n",
    "        self.combo[5] = self.register['B']\n",
    "        self.instruction_pointer += 2\n",
    "    def jnz(self, o):\n",
    "        if self.register['A'] == 0:\n",
    "            self.instruction_pointer += 2\n",
    "        else:\n",
    "            self.instruction_pointer = o\n",
    "    def bxc(self, o):\n",
    "        self.register['B'] = self.register['B'] ^ self.register['C']\n",
    "        self.combo[5] = self.register['B']\n",
    "        self.instruction_pointer += 2\n",
    "    def out(self, o):\n",
    "        self.output.append(self.combo[o] % 8)\n",
    "        self.instruction_pointer += 2\n",
    "    def bdv(self, o):\n",
    "        self.register['B'] = int(self.register['A'] / 2**(self.combo[o]))\n",
    "        self.combo[5] = self.register['B']\n",
    "        self.instruction_pointer += 2\n",
    "    def cdv(self, o):\n",
    "        self.register['C'] = int(self.register['A'] / 2**(self.combo[o]))\n",
    "        self.combo[6] = self.register['C']\n",
    "        self.instruction_pointer += 2\n",
    "    \n",
    "    def run1(self):\n",
    "        f = self.instruction[self.instruction_list[self.instruction_pointer]]\n",
    "        o = self.instruction_list[self.instruction_pointer + 1]\n",
    "        f(o)\n",
    "    def run_all(self):\n",
    "        while self.instruction_pointer < len(self.instruction_list):\n",
    "            self.run1()"
   ]
  },
  {
   "cell_type": "code",
   "execution_count": 215,
   "id": "e3fbc279-9c50-4369-9b2d-e1cfb446388a",
   "metadata": {},
   "outputs": [
    {
     "data": {
      "text/plain": [
       "{'A': 0, 'B': 1, 'C': 9}"
      ]
     },
     "execution_count": 215,
     "metadata": {},
     "output_type": "execute_result"
    }
   ],
   "source": [
    "#If register C contains 9, the program 2,6 would set register B to 1.\n",
    "e1 = ChronospatialComputer([0, 0, 9], [2, 6])\n",
    "e1.run_all()\n",
    "e1.register"
   ]
  },
  {
   "cell_type": "code",
   "execution_count": 216,
   "id": "63ccf4ba-d9e4-4463-b818-57c0da575900",
   "metadata": {},
   "outputs": [
    {
     "data": {
      "text/plain": [
       "[0, 1, 2]"
      ]
     },
     "execution_count": 216,
     "metadata": {},
     "output_type": "execute_result"
    }
   ],
   "source": [
    "#If register A contains 10, the program 5,0,5,1,5,4 would output 0,1,2.\n",
    "e2 = ChronospatialComputer([10, 0, 0], [5,0,5,1,5,4])\n",
    "e2.run_all()\n",
    "e2.output"
   ]
  },
  {
   "cell_type": "code",
   "execution_count": 217,
   "id": "3d8555d5-204d-47f4-9cbb-99c51896da32",
   "metadata": {},
   "outputs": [
    {
     "data": {
      "text/plain": [
       "[4, 2, 5, 6, 7, 7, 7, 7, 3, 1, 0]"
      ]
     },
     "execution_count": 217,
     "metadata": {},
     "output_type": "execute_result"
    }
   ],
   "source": [
    "# If register A contains 2024, the program 0,1,5,4,3,0 would output 4,2,5,6,7,7,7,7,3,1,0 and leave 0 in register A.\n",
    "e3 = ChronospatialComputer([2024, 0, 0], [0,1,5,4,3,0])\n",
    "e3.run_all()\n",
    "e3.output"
   ]
  },
  {
   "cell_type": "code",
   "execution_count": 218,
   "id": "339058b3-ef6f-4e1e-976a-e764137d5851",
   "metadata": {},
   "outputs": [
    {
     "data": {
      "text/plain": [
       "{'A': 0, 'B': 26, 'C': 0}"
      ]
     },
     "execution_count": 218,
     "metadata": {},
     "output_type": "execute_result"
    }
   ],
   "source": [
    "# If register B contains 29, the program 1,7 would set register B to 26.\n",
    "e4 = ChronospatialComputer([0, 29, 0], [1, 7])\n",
    "e4.run_all()\n",
    "e4.register"
   ]
  },
  {
   "cell_type": "code",
   "execution_count": 219,
   "id": "bf136664-7f3c-4177-b757-5466abee6c24",
   "metadata": {},
   "outputs": [
    {
     "data": {
      "text/plain": [
       "{'A': 0, 'B': 44354, 'C': 43690}"
      ]
     },
     "execution_count": 219,
     "metadata": {},
     "output_type": "execute_result"
    }
   ],
   "source": [
    "# If register B contains 2024 and register C contains 43690, the program 4,0 would set register B to 44354.\n",
    "e5 = ChronospatialComputer([0, 2024, 43690], [4, 0])\n",
    "e5.run_all()\n",
    "e5.register"
   ]
  },
  {
   "cell_type": "code",
   "execution_count": 220,
   "id": "90394159-0334-4f5c-b521-37f602ba49d0",
   "metadata": {},
   "outputs": [
    {
     "data": {
      "text/plain": [
       "[4, 6, 3, 5, 6, 3, 5, 2, 1, 0]"
      ]
     },
     "execution_count": 220,
     "metadata": {},
     "output_type": "execute_result"
    }
   ],
   "source": [
    "e6 = ChronospatialComputer([729, 0, 0], [0,1,5,4,3,0])\n",
    "e6.run_all()\n",
    "e6.output"
   ]
  },
  {
   "cell_type": "code",
   "execution_count": 227,
   "id": "ef66efc9-894c-4380-ae86-3db16789b339",
   "metadata": {},
   "outputs": [
    {
     "data": {
      "text/plain": [
       "'2,1,4,7,6,0,3,1,4'"
      ]
     },
     "execution_count": 227,
     "metadata": {},
     "output_type": "execute_result"
    }
   ],
   "source": [
    "s1 = ChronospatialComputer([50230824, 0, 0], [2,4,1,3,7,5,0,3,1,4,4,7,5,5,3,0])\n",
    "s1.run_all()\n",
    "x = [str(a) for a in s1.output]\n",
    "','.join(x)"
   ]
  },
  {
   "cell_type": "code",
   "execution_count": 229,
   "id": "adcc13f5-6669-491a-8df7-57c3dd474db1",
   "metadata": {},
   "outputs": [
    {
     "data": {
      "text/plain": [
       "[0, 3, 5, 4, 3, 0]"
      ]
     },
     "execution_count": 229,
     "metadata": {},
     "output_type": "execute_result"
    }
   ],
   "source": [
    "e7 = ChronospatialComputer([117440, 0, 0], [0,3,5,4,3,0])\n",
    "e7.run_all()\n",
    "e7.output"
   ]
  },
  {
   "cell_type": "code",
   "execution_count": 382,
   "id": "7729b4f8-907d-41fd-8e8f-7cd58e03bd94",
   "metadata": {},
   "outputs": [
    {
     "data": {
      "text/plain": [
       "'2,1,4,7,6,0,3,1,4'"
      ]
     },
     "execution_count": 382,
     "metadata": {},
     "output_type": "execute_result"
    }
   ],
   "source": [
    "s1 = ChronospatialComputer([50230824, 0, 0], [2,4,1,3,7,5,0,3,1,4,4,7,5,5,3,0])\n",
    "s1.run_all()\n",
    "x = [str(a) for a in s1.output]\n",
    "','.join(x)"
   ]
  },
  {
   "cell_type": "code",
   "execution_count": 370,
   "id": "641b0e11-7421-4f8e-9fed-a21a87895fe3",
   "metadata": {},
   "outputs": [],
   "source": [
    "def power8(coefs):\n",
    "    s = 0\n",
    "    for i in range(len(coefs)):\n",
    "        s += coefs[i] * 8**i\n",
    "    return s\n",
    "    "
   ]
  },
  {
   "cell_type": "code",
   "execution_count": 408,
   "id": "2a0d467c-399d-4e11-8e92-8588b40d1ddc",
   "metadata": {},
   "outputs": [
    {
     "data": {
      "text/plain": [
       "266932601404433"
      ]
     },
     "execution_count": 408,
     "metadata": {},
     "output_type": "execute_result"
    }
   ],
   "source": [
    "target = [2,4,1,3,7,5,0,3,1,4,4,7,5,5,3,0]\n",
    "coefs = [0, 0, 0, 0, 0, 0, 0, 0, 0, 0, 0, 0, 0, 0, 0, 0]\n",
    "for i in range(1, len(coefs)+1):\n",
    "    for j in range(8):\n",
    "        coefs[-i] = j\n",
    "        A = power8(coefs)\n",
    "        s2 = ChronospatialComputer([A, 0, 0], [2,4,1,3,7,5,0,3,1,4,4,7,5,5,3,0])\n",
    "        s2.run_all()\n",
    "        if s2.output[-i] == target[-i]:\n",
    "            break\n",
    "A       "
   ]
  }
 ],
 "metadata": {
  "kernelspec": {
   "display_name": "datascience",
   "language": "python",
   "name": "datascience"
  },
  "language_info": {
   "codemirror_mode": {
    "name": "ipython",
    "version": 3
   },
   "file_extension": ".py",
   "mimetype": "text/x-python",
   "name": "python",
   "nbconvert_exporter": "python",
   "pygments_lexer": "ipython3",
   "version": "3.11.5"
  }
 },
 "nbformat": 4,
 "nbformat_minor": 5
}
