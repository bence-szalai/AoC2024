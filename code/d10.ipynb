{
 "cells": [
  {
   "cell_type": "code",
   "execution_count": 7,
   "id": "d107f6a7-a5a4-427f-8b68-9f38ea2fc85a",
   "metadata": {},
   "outputs": [],
   "source": [
    "import numpy as np"
   ]
  },
  {
   "cell_type": "code",
   "execution_count": 94,
   "id": "3fe1b982-0645-4dc9-9403-b9ffd6e02eae",
   "metadata": {},
   "outputs": [],
   "source": [
    "def make_M(s):\n",
    "    M = []\n",
    "    for line in s[:-1].split('\\n'):\n",
    "        M.append([int(x) for x in list(line)])\n",
    "    return np.array(M)"
   ]
  },
  {
   "cell_type": "code",
   "execution_count": 95,
   "id": "18045e74-dc67-4b25-b88c-622fc0ba3409",
   "metadata": {},
   "outputs": [],
   "source": [
    "def from_one_start(M, current):\n",
    "    global ENDS\n",
    "    i, j = current\n",
    "    if (i<0) | (i>=M.shape[0]) | (j<0) | (j>=M.shape[1]):\n",
    "        return 1\n",
    "    if M[i, j] == 9:\n",
    "        ENDS.append(current)\n",
    "        return 1\n",
    "    for d in [(1, 0), (0, 1), (-1, 0), (0, -1)]:\n",
    "        i_new = i + d[0]\n",
    "        j_new = j + d[1]\n",
    "        if (i_new<0) | (i_new>=M.shape[0]) | (j_new<0) | (j_new>=M.shape[1]):\n",
    "            pass\n",
    "        elif M[i+d[0], j+d[1]] == M[i, j] + 1:\n",
    "            from_one_start(M, (i+d[0], j+d[1]))\n",
    "    return 1"
   ]
  },
  {
   "cell_type": "code",
   "execution_count": 96,
   "id": "ee2a76b2-b3df-495a-aed8-8bdf3d3f2c15",
   "metadata": {},
   "outputs": [
    {
     "data": {
      "text/plain": [
       "36"
      ]
     },
     "execution_count": 96,
     "metadata": {},
     "output_type": "execute_result"
    }
   ],
   "source": [
    "s = '89010123\\n78121874\\n87430965\\n96549874\\n45678903\\n32019012\\n01329801\\n10456732\\n'\n",
    "score = 0\n",
    "M = make_M(s)\n",
    "for i in range(M.shape[0]):\n",
    "    for j in range(M.shape[1]):\n",
    "        if M[i, j] == 0:\n",
    "            ENDS = []\n",
    "            from_one_start(M, (i, j))\n",
    "            ENDS = list(set(ENDS))\n",
    "            score += len(ENDS)\n",
    "score"
   ]
  },
  {
   "cell_type": "code",
   "execution_count": 97,
   "id": "d3e0e61d-350b-4fd4-818a-fe23d44984bc",
   "metadata": {},
   "outputs": [
    {
     "data": {
      "text/plain": [
       "754"
      ]
     },
     "execution_count": 97,
     "metadata": {},
     "output_type": "execute_result"
    }
   ],
   "source": [
    "with open('../data/d10.txt') as fin:\n",
    "    s = fin.read()\n",
    "score = 0\n",
    "M = make_M(s)\n",
    "for i in range(M.shape[0]):\n",
    "    for j in range(M.shape[1]):\n",
    "        if M[i, j] == 0:\n",
    "            ENDS = []\n",
    "            from_one_start(M, (i, j))\n",
    "            ENDS = list(set(ENDS))\n",
    "            score += len(ENDS)\n",
    "score"
   ]
  },
  {
   "cell_type": "code",
   "execution_count": null,
   "id": "bfc2857e-d72a-4d05-89ea-0369c9462a79",
   "metadata": {},
   "outputs": [],
   "source": []
  },
  {
   "cell_type": "code",
   "execution_count": 98,
   "id": "f0abc596-fda6-40fe-a8a4-0ca132b3c3aa",
   "metadata": {},
   "outputs": [
    {
     "data": {
      "text/plain": [
       "81"
      ]
     },
     "execution_count": 98,
     "metadata": {},
     "output_type": "execute_result"
    }
   ],
   "source": [
    "s = '89010123\\n78121874\\n87430965\\n96549874\\n45678903\\n32019012\\n01329801\\n10456732\\n'\n",
    "score = 0\n",
    "M = make_M(s)\n",
    "for i in range(M.shape[0]):\n",
    "    for j in range(M.shape[1]):\n",
    "        if M[i, j] == 0:\n",
    "            ENDS = []\n",
    "            from_one_start(M, (i, j))\n",
    "            score += len(ENDS)\n",
    "score"
   ]
  },
  {
   "cell_type": "code",
   "execution_count": 99,
   "id": "98629d06-b841-41a0-b94d-2124aa8c8df4",
   "metadata": {},
   "outputs": [
    {
     "data": {
      "text/plain": [
       "1609"
      ]
     },
     "execution_count": 99,
     "metadata": {},
     "output_type": "execute_result"
    }
   ],
   "source": [
    "with open('../data/d10.txt') as fin:\n",
    "    s = fin.read()\n",
    "score = 0\n",
    "M = make_M(s)\n",
    "for i in range(M.shape[0]):\n",
    "    for j in range(M.shape[1]):\n",
    "        if M[i, j] == 0:\n",
    "            ENDS = []\n",
    "            from_one_start(M, (i, j))\n",
    "            score += len(ENDS)\n",
    "score"
   ]
  },
  {
   "cell_type": "code",
   "execution_count": null,
   "id": "fc2957db-96eb-4d61-accd-c363bc1ca4af",
   "metadata": {},
   "outputs": [],
   "source": []
  }
 ],
 "metadata": {
  "kernelspec": {
   "display_name": "datascience",
   "language": "python",
   "name": "datascience"
  },
  "language_info": {
   "codemirror_mode": {
    "name": "ipython",
    "version": 3
   },
   "file_extension": ".py",
   "mimetype": "text/x-python",
   "name": "python",
   "nbconvert_exporter": "python",
   "pygments_lexer": "ipython3",
   "version": "3.11.5"
  }
 },
 "nbformat": 4,
 "nbformat_minor": 5
}
