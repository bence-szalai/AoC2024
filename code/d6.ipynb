{
 "cells": [
  {
   "cell_type": "code",
   "execution_count": 1,
   "id": "428ab095-8eb0-4937-88c9-7f9cd76afe4a",
   "metadata": {},
   "outputs": [],
   "source": [
    "import numpy as np\n",
    "import seaborn as sns\n",
    "from matplotlib import pyplot as plt\n",
    "import tqdm"
   ]
  },
  {
   "cell_type": "code",
   "execution_count": 39,
   "id": "fedd0aba-d5c4-4e10-ab42-d7b2081d4ae5",
   "metadata": {},
   "outputs": [],
   "source": [
    "s = '....#.....\\n.........#\\n..........\\n..#.......\\n.......#..\\n..........\\n.#..^.....\\n........#.\\n#.........\\n......#...'"
   ]
  },
  {
   "cell_type": "markdown",
   "id": "1b194cb0-3d4a-46e1-8135-98f7d1b77b95",
   "metadata": {},
   "source": [
    "### Problem 1"
   ]
  },
  {
   "cell_type": "code",
   "execution_count": 40,
   "id": "5174c285-63ea-434a-8b06-e11a2b89ce6c",
   "metadata": {},
   "outputs": [],
   "source": [
    "def get_M(s):\n",
    "    M = []\n",
    "    temp = s.split('\\n')\n",
    "    for l in temp:\n",
    "        M.append(list(l))\n",
    "    M = np.array(M)\n",
    "    return M"
   ]
  },
  {
   "cell_type": "code",
   "execution_count": 41,
   "id": "bf8bb67a-bfb6-4e3b-beba-840cdfdec793",
   "metadata": {},
   "outputs": [],
   "source": [
    "def turn_righ(d):\n",
    "    if d == [-1, 0]:\n",
    "        return [0, 1]\n",
    "    if d == [0, 1]:\n",
    "        return [1, 0]\n",
    "    if d == [1, 0]:\n",
    "        return [0, -1]\n",
    "    if d == [0, -1]:\n",
    "        return [-1, 0]"
   ]
  },
  {
   "cell_type": "code",
   "execution_count": 42,
   "id": "899b2d7d-8380-4a42-a235-bbbcb19d7107",
   "metadata": {},
   "outputs": [],
   "source": [
    "def make_path(M):\n",
    "    i, j = np.where(M=='^')\n",
    "    i = i[0]\n",
    "    j = j[0]\n",
    "    d = [-1, 0]\n",
    "    while True:\n",
    "        M[i, j] = 'X'\n",
    "        i_next = i + d[0]\n",
    "        j_next = j + d[1]\n",
    "        if (i_next>=0) & (i_next<M.shape[0]) & (j_next>=0) & (j_next<M.shape[1]):\n",
    "            if M[i_next, j_next] != '#':\n",
    "                i = i_next\n",
    "                j = j_next\n",
    "                M[i, j] = '^'\n",
    "            else:\n",
    "                d = turn_righ(d)\n",
    "        else:\n",
    "            break\n",
    "    return (M=='X').sum()"
   ]
  },
  {
   "cell_type": "code",
   "execution_count": 43,
   "id": "c6bca1c0-2571-4036-abdf-df384eca3152",
   "metadata": {},
   "outputs": [
    {
     "data": {
      "text/plain": [
       "41"
      ]
     },
     "execution_count": 43,
     "metadata": {},
     "output_type": "execute_result"
    }
   ],
   "source": [
    "M = get_M(s)\n",
    "make_path(M)"
   ]
  },
  {
   "cell_type": "code",
   "execution_count": 44,
   "id": "21f06168-9487-4862-ad86-7f66e681e473",
   "metadata": {},
   "outputs": [
    {
     "data": {
      "image/png": "[encoded data removed]",
      "text/plain": [
       "<Figure size 640x480 with 1 Axes>"
      ]
     },
     "metadata": {},
     "output_type": "display_data"
    }
   ],
   "source": [
    "fil = M =='.'\n",
    "M[fil] = 0\n",
    "fil = M =='#'\n",
    "M[fil] = 1\n",
    "fil = M =='X'\n",
    "M[fil] = 2\n",
    "sns.heatmap(M.astype(float), cbar=False)\n",
    "plt.xticks([]);\n",
    "plt.yticks([]);\n",
    "plt.savefig('../d6a.png')"
   ]
  },
  {
   "cell_type": "code",
   "execution_count": 45,
   "id": "cbe0e25f-422c-491f-a265-0a6c624fb074",
   "metadata": {},
   "outputs": [],
   "source": [
    "with open('../data/d6.txt') as fin:\n",
    "    s = fin.read()[:-1]"
   ]
  },
  {
   "cell_type": "code",
   "execution_count": 46,
   "id": "9a0cc426-a408-4271-bd8d-d16f7f23a99a",
   "metadata": {},
   "outputs": [
    {
     "data": {
      "text/plain": [
       "4982"
      ]
     },
     "execution_count": 46,
     "metadata": {},
     "output_type": "execute_result"
    }
   ],
   "source": [
    "M = get_M(s)\n",
    "make_path(M)"
   ]
  },
  {
   "cell_type": "code",
   "execution_count": 47,
   "id": "4aea5be5-0e37-4702-bf8d-0e872015fe64",
   "metadata": {},
   "outputs": [
    {
     "data": {
      "image/png": "[encoded data removed]",
      "text/plain": [
       "<Figure size 640x480 with 1 Axes>"
      ]
     },
     "metadata": {},
     "output_type": "display_data"
    }
   ],
   "source": [
    "fil = M =='.'\n",
    "M[fil] = 0\n",
    "fil = M =='#'\n",
    "M[fil] = 1\n",
    "fil = M =='X'\n",
    "M[fil] = 2\n",
    "sns.heatmap(M.astype(float), cbar=False)\n",
    "plt.xticks([]);\n",
    "plt.yticks([]);\n",
    "plt.savefig('../d6b.png')"
   ]
  },
  {
   "cell_type": "markdown",
   "id": "25046c52-7b54-4ae2-aeb8-aa2f96463628",
   "metadata": {},
   "source": [
    "### Problem 2"
   ]
  },
  {
   "cell_type": "code",
   "execution_count": 115,
   "id": "eb41b9b1-82d2-4436-bf89-9dc5be09779c",
   "metadata": {},
   "outputs": [],
   "source": [
    "s = '....#.....\\n.........#\\n..........\\n..#.......\\n.......#..\\n..........\\n.#..^.....\\n........#.\\n#.........\\n......#...'"
   ]
  },
  {
   "cell_type": "code",
   "execution_count": 116,
   "id": "83184e80-76c1-4adb-85a3-aaea59f0dad6",
   "metadata": {},
   "outputs": [],
   "source": [
    "def return_path(M):\n",
    "    path = []\n",
    "    temp = np.where(M=='^')\n",
    "    i = temp[0][0]\n",
    "    j = temp[1][0]\n",
    "    d = [-1, 0]\n",
    "    while True:\n",
    "        M[i, j] = 'X'\n",
    "        i_next = i + d[0]\n",
    "        j_next = j + d[1]\n",
    "        if (i_next>=0) & (i_next<M.shape[0]) & (j_next>=0) & (j_next<M.shape[1]):\n",
    "            if M[i_next, j_next] != '#':\n",
    "                path.append((i, j, d[0], d[1]))\n",
    "                i = i_next\n",
    "                j = j_next\n",
    "                M[i, j] = '^'\n",
    "            else:\n",
    "                d = turn_righ(d)\n",
    "        else:\n",
    "            break\n",
    "    return path"
   ]
  },
  {
   "cell_type": "code",
   "execution_count": 117,
   "id": "ee115a80-a61e-443c-b97c-61d0dfd1f7e6",
   "metadata": {},
   "outputs": [],
   "source": [
    "def is_ther_circle(M, io, jo):\n",
    "    path = []\n",
    "    temp = np.where(M=='^')\n",
    "    i = temp[0][0]\n",
    "    j = temp[1][0]\n",
    "    if (io, jo) != (i, j):\n",
    "        M[io, jo] = '#'\n",
    "    else:\n",
    "        return False, M\n",
    "    d = [-1, 0]\n",
    "    while True:\n",
    "        if (i, j, d[0], d[1]) in path:\n",
    "            return True, M\n",
    "        M[i, j] = 'X'\n",
    "        i_next = i + d[0]\n",
    "        j_next = j + d[1]\n",
    "        if (i_next>=0) & (i_next<M.shape[0]) & (j_next>=0) & (j_next<M.shape[1]):\n",
    "            if M[i_next, j_next] != '#':\n",
    "                path.append((i, j, d[0], d[1]))\n",
    "                i = i_next\n",
    "                j = j_next\n",
    "                M[i, j] = '^'\n",
    "            else:\n",
    "                d = turn_righ(d)\n",
    "        else:\n",
    "            break\n",
    "    return False, M"
   ]
  },
  {
   "cell_type": "code",
   "execution_count": 118,
   "id": "2ad04f11-9c21-446f-848a-2fb274c76083",
   "metadata": {},
   "outputs": [
    {
     "name": "stderr",
     "output_type": "stream",
     "text": [
      "100%|██████████| 43/43 [00:00<00:00, 7704.52it/s]\n"
     ]
    },
    {
     "data": {
      "text/plain": [
       "6"
      ]
     },
     "execution_count": 118,
     "metadata": {},
     "output_type": "execute_result"
    }
   ],
   "source": [
    "M = get_M(s)\n",
    "path = return_path(M.copy())\n",
    "n = 0\n",
    "for p in tqdm.tqdm(path[1:]):\n",
    "    a, b = is_ther_circle(M.copy(), p[0], p[1])\n",
    "    if a:\n",
    "        n+=1\n",
    "n"
   ]
  },
  {
   "cell_type": "code",
   "execution_count": 122,
   "id": "14f3dde9-1ef3-4f06-bd3f-f254e2093ae6",
   "metadata": {},
   "outputs": [
    {
     "data": {
      "text/plain": [
       "6"
      ]
     },
     "execution_count": 122,
     "metadata": {},
     "output_type": "execute_result"
    }
   ],
   "source": [
    "M = get_M(s)\n",
    "n = 0\n",
    "for i in range(M.shape[0]):\n",
    "    for j in range(M.shape[1]):\n",
    "        a, b = is_ther_circle(M.copy(), i, j)\n",
    "        if a:\n",
    "            n+=1\n",
    "n"
   ]
  },
  {
   "cell_type": "code",
   "execution_count": 124,
   "id": "64997efb-4d9b-4611-b955-47e71ef17239",
   "metadata": {},
   "outputs": [
    {
     "name": "stderr",
     "output_type": "stream",
     "text": [
      "100%|██████████| 130/130 [1:51:41<00:00, 51.55s/it]  \n"
     ]
    }
   ],
   "source": [
    "with open('../data/d6.txt') as fin:\n",
    "    s = fin.read()[:-1]\n",
    "M = get_M(s)\n",
    "n = 0\n",
    "for i in tqdm.tqdm(range(M.shape[0])):\n",
    "    for j in range(M.shape[1]):\n",
    "        a, b = is_ther_circle(M.copy(), i, j)\n",
    "        if a:\n",
    "            n+=1"
   ]
  },
  {
   "cell_type": "code",
   "execution_count": 125,
   "id": "a11c343d-ad6d-4225-b618-162ef19603ae",
   "metadata": {},
   "outputs": [
    {
     "data": {
      "text/plain": [
       "1663"
      ]
     },
     "execution_count": 125,
     "metadata": {},
     "output_type": "execute_result"
    }
   ],
   "source": [
    "n"
   ]
  }
 ],
 "metadata": {
  "kernelspec": {
   "display_name": "datascience",
   "language": "python",
   "name": "datascience"
  },
  "language_info": {
   "codemirror_mode": {
    "name": "ipython",
    "version": 3
   },
   "file_extension": ".py",
   "mimetype": "text/x-python",
   "name": "python",
   "nbconvert_exporter": "python",
   "pygments_lexer": "ipython3",
   "version": "3.11.5"
  }
 },
 "nbformat": 4,
 "nbformat_minor": 5
}
