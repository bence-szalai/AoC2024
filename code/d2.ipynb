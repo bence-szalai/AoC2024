{
 "cells": [
  {
   "cell_type": "code",
   "execution_count": 225,
   "id": "748baf0c-6bd2-4df6-9cec-9dd68ed9ca08",
   "metadata": {},
   "outputs": [],
   "source": [
    "import numpy as np"
   ]
  },
  {
   "cell_type": "markdown",
   "id": "f897c778-693f-479f-ab59-be959fe59478",
   "metadata": {},
   "source": [
    "### Problem 1"
   ]
  },
  {
   "cell_type": "code",
   "execution_count": 226,
   "id": "7494a8b3-40dc-4c19-bc1c-58e9c9d80c80",
   "metadata": {},
   "outputs": [],
   "source": [
    "example_data = [\n",
    "    [7, 6, 4, 2, 1],\n",
    "    [1, 2, 7, 8, 9],\n",
    "    [9, 7, 6, 2, 1],\n",
    "    [1, 3, 2, 4, 5],\n",
    "    [8, 6, 4, 4, 1],\n",
    "    [1, 3, 6, 7, 9]\n",
    "]"
   ]
  },
  {
   "cell_type": "code",
   "execution_count": 227,
   "id": "eee418c1-473c-4a30-ad24-655d273ef918",
   "metadata": {},
   "outputs": [],
   "source": [
    "example_data = np.array(example_data)"
   ]
  },
  {
   "cell_type": "code",
   "execution_count": 228,
   "id": "9d4c8064-51a9-45fa-b699-6993c667af5c",
   "metadata": {},
   "outputs": [],
   "source": [
    "def solve_one_case(l):\n",
    "    if l[0] == l[1]:\n",
    "        return False\n",
    "    if np.abs(l[0] - l[1]) > 3:\n",
    "        return False\n",
    "    if l[0] > l[1]:\n",
    "        direction = 'descending'\n",
    "    else:\n",
    "        direction = 'ascending'\n",
    "    for i in range(1, len(l)-1):\n",
    "        e1 = l[i]\n",
    "        e2 = l[i+1]\n",
    "        if e1 == e2:\n",
    "            return False\n",
    "        if direction == 'descending':\n",
    "            if e1 < e2:\n",
    "                return False\n",
    "        else:\n",
    "            if e1 > e2:\n",
    "                return False\n",
    "        if np.abs(e1-e2)>3:\n",
    "            return False\n",
    "    return True"
   ]
  },
  {
   "cell_type": "code",
   "execution_count": 229,
   "id": "283bb567-1e8e-4456-8a98-f7eb9483ae3e",
   "metadata": {},
   "outputs": [],
   "source": [
    "def solve_one_case2(l):\n",
    "    delta = l[:-1] - l[1:]\n",
    "    if ((delta<0).sum() == len(l) - 1) | ((delta>0).sum() == len(l) - 1):\n",
    "        if np.max(np.abs(delta))<=3:\n",
    "            return True\n",
    "        else:\n",
    "            return False\n",
    "    else:\n",
    "        return False"
   ]
  },
  {
   "cell_type": "code",
   "execution_count": 230,
   "id": "f8ec5e58-69aa-413b-96d3-7414f0c9dd12",
   "metadata": {},
   "outputs": [],
   "source": [
    "def solve_all_cases(M):\n",
    "    n = 0\n",
    "    for i in range(len(M)):\n",
    "        l = np.array(M[i])\n",
    "        if solve_one_case2(l):\n",
    "            n+=1\n",
    "    return n"
   ]
  },
  {
   "cell_type": "code",
   "execution_count": 232,
   "id": "7abe26d5-bfd3-44e4-aa57-130e89a5931b",
   "metadata": {},
   "outputs": [],
   "source": [
    "M = []\n",
    "with open('../data/d2.txt') as fin:\n",
    "    data = fin.readlines()\n",
    "for i in range(len(data)):\n",
    "    M.append([int(x) for x in data[i].split()])\n"
   ]
  },
  {
   "cell_type": "code",
   "execution_count": 233,
   "id": "907256dc-e019-43c1-84e7-36f5ad4c9757",
   "metadata": {},
   "outputs": [
    {
     "data": {
      "text/plain": [
       "442"
      ]
     },
     "execution_count": 233,
     "metadata": {},
     "output_type": "execute_result"
    }
   ],
   "source": [
    "solve_all_cases(M)"
   ]
  },
  {
   "cell_type": "markdown",
   "id": "d4a21cf7-3296-4648-bf75-8af83250c574",
   "metadata": {},
   "source": [
    "### Problem 2"
   ]
  },
  {
   "cell_type": "code",
   "execution_count": 234,
   "id": "0a09ec55-9167-45bb-9cd1-7119c3b9f17d",
   "metadata": {},
   "outputs": [],
   "source": [
    "def solve_all_cases2(M):\n",
    "    n = 0\n",
    "    for i in range(len(M)):\n",
    "        l = np.array(M[i])\n",
    "        if solve_one_case2(l):\n",
    "            n+=1\n",
    "        else:\n",
    "            for j in range(len(l)):\n",
    "                l2 = np.array(list(l[:j]) + list(l[j+1:]))\n",
    "                if solve_one_case2(l2):\n",
    "                    n+=1\n",
    "                    break\n",
    "    return n"
   ]
  },
  {
   "cell_type": "code",
   "execution_count": 235,
   "id": "b218338d-c2ff-4950-9d1f-93794ad7149b",
   "metadata": {},
   "outputs": [
    {
     "data": {
      "text/plain": [
       "493"
      ]
     },
     "execution_count": 235,
     "metadata": {},
     "output_type": "execute_result"
    }
   ],
   "source": [
    "solve_all_cases2(M)"
   ]
  }
 ],
 "metadata": {
  "kernelspec": {
   "display_name": "datascience",
   "language": "python",
   "name": "datascience"
  },
  "language_info": {
   "codemirror_mode": {
    "name": "ipython",
    "version": 3
   },
   "file_extension": ".py",
   "mimetype": "text/x-python",
   "name": "python",
   "nbconvert_exporter": "python",
   "pygments_lexer": "ipython3",
   "version": "3.11.5"
  }
 },
 "nbformat": 4,
 "nbformat_minor": 5
}
