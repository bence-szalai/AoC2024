{
 "cells": [
  {
   "cell_type": "code",
   "execution_count": 165,
   "id": "8a484a03-c988-45df-8190-58cdd7607d9e",
   "metadata": {},
   "outputs": [],
   "source": [
    "from tqdm import tqdm"
   ]
  },
  {
   "cell_type": "code",
   "execution_count": 99,
   "id": "189449cd-5a4a-41cc-8e09-5e78ab870f65",
   "metadata": {},
   "outputs": [],
   "source": [
    "s = '2333133121414131402'"
   ]
  },
  {
   "cell_type": "code",
   "execution_count": 89,
   "id": "729c336d-6869-4264-9daf-61d07b57ae2a",
   "metadata": {},
   "outputs": [],
   "source": [
    "def generate_block(s):\n",
    "    f = True\n",
    "    n = 0\n",
    "    results = []\n",
    "    for c in s:\n",
    "        if f:\n",
    "            results += [n] * int(c)\n",
    "            n += 1\n",
    "            f = False\n",
    "        else:\n",
    "            results += ['.'] * int(c)\n",
    "            f = True\n",
    "    return results"
   ]
  },
  {
   "cell_type": "code",
   "execution_count": 90,
   "id": "e1cff3d0-4e2a-4100-96bb-db4d7a7d899b",
   "metadata": {},
   "outputs": [],
   "source": [
    "def move_blocks(blocks):\n",
    "    results = []\n",
    "    temp = blocks.copy()\n",
    "    for i in range(len(blocks)):\n",
    "        while temp[-1] == '.':\n",
    "            temp = temp[:-1]\n",
    "        if len(temp) <= i:\n",
    "            break\n",
    "        if temp[i] != '.':\n",
    "            results += [temp[i]]\n",
    "        else:\n",
    "            results += [temp[-1]]\n",
    "            temp = temp[:-1]\n",
    "    n = 0\n",
    "    for i in range(len(results)):\n",
    "        n += i * results[i]\n",
    "    return n\n",
    "        "
   ]
  },
  {
   "cell_type": "code",
   "execution_count": 100,
   "id": "a8525213-fa8c-4c3e-b103-0f0e641517f1",
   "metadata": {},
   "outputs": [],
   "source": [
    "blocks = generate_block(s)"
   ]
  },
  {
   "cell_type": "code",
   "execution_count": 92,
   "id": "25b7e137-358b-470f-8fa7-57216a59efe5",
   "metadata": {},
   "outputs": [
    {
     "data": {
      "text/plain": [
       "1928"
      ]
     },
     "execution_count": 92,
     "metadata": {},
     "output_type": "execute_result"
    }
   ],
   "source": [
    "move_blocks(blocks)"
   ]
  },
  {
   "cell_type": "code",
   "execution_count": 71,
   "id": "0a30e6c5-1211-4bc8-a11f-7ce2950cec68",
   "metadata": {},
   "outputs": [],
   "source": [
    "with open('../data/d9.txt') as fin:\n",
    "    s = fin.read()[:-1]"
   ]
  },
  {
   "cell_type": "code",
   "execution_count": 163,
   "id": "8f463e5c-99f5-40a4-9a84-0e8c318f44b5",
   "metadata": {},
   "outputs": [],
   "source": [
    "blocks = generate_block(s)"
   ]
  },
  {
   "cell_type": "code",
   "execution_count": 73,
   "id": "e8db2a74-89be-4fb6-96d0-28069e216441",
   "metadata": {},
   "outputs": [
    {
     "data": {
      "text/plain": [
       "6330095022244"
      ]
     },
     "execution_count": 73,
     "metadata": {},
     "output_type": "execute_result"
    }
   ],
   "source": [
    "move_blocks(blocks)"
   ]
  },
  {
   "cell_type": "code",
   "execution_count": 150,
   "id": "224b563e-6d4e-4d05-bda0-941f0b7f4c75",
   "metadata": {},
   "outputs": [],
   "source": [
    "def move_x(blocks, x):\n",
    "    cnt = blocks.count(x)\n",
    "    j = blocks.index(x)\n",
    "    for i in range(len(blocks)):\n",
    "        if blocks[i] == x:\n",
    "            break\n",
    "        if blocks[i:i+cnt] == ['.'] * cnt:\n",
    "            blocks = blocks[:i] + [x] * cnt + blocks[i+cnt:j] + ['.'] * cnt + blocks[j+cnt:]\n",
    "            break\n",
    "    return blocks"
   ]
  },
  {
   "cell_type": "code",
   "execution_count": 167,
   "id": "2e679995-12a5-4828-a4ff-94dcdb0d2afe",
   "metadata": {},
   "outputs": [],
   "source": [
    "def move_blocks2(blocks):\n",
    "    ids = list(set([x for x in blocks if x!='.']))\n",
    "    ids.sort()\n",
    "    ids = ids[::-1]\n",
    "    for x in tqdm(ids):\n",
    "        blocks = move_x(blocks, x)\n",
    "    n = 0\n",
    "    for i in range(len(blocks)):\n",
    "        if blocks[i] != '.':\n",
    "            n += i * blocks[i]\n",
    "    return n"
   ]
  },
  {
   "cell_type": "code",
   "execution_count": 168,
   "id": "77865a63-c4d0-469d-8a0e-61ce2b96bef5",
   "metadata": {},
   "outputs": [
    {
     "name": "stderr",
     "output_type": "stream",
     "text": [
      "100%|██████████| 10/10 [00:00<00:00, 82727.89it/s]\n"
     ]
    },
    {
     "data": {
      "text/plain": [
       "2858"
      ]
     },
     "execution_count": 168,
     "metadata": {},
     "output_type": "execute_result"
    }
   ],
   "source": [
    "s = '2333133121414131402'\n",
    "blocks = generate_block(s)\n",
    "move_blocks2(blocks)"
   ]
  },
  {
   "cell_type": "code",
   "execution_count": 169,
   "id": "6c2ea13b-84ce-4e27-b359-0c3e5beefe6a",
   "metadata": {},
   "outputs": [
    {
     "name": "stderr",
     "output_type": "stream",
     "text": [
      "100%|██████████| 10000/10000 [01:15<00:00, 132.31it/s]\n"
     ]
    },
    {
     "data": {
      "text/plain": [
       "6359491814941"
      ]
     },
     "execution_count": 169,
     "metadata": {},
     "output_type": "execute_result"
    }
   ],
   "source": [
    "with open('../data/d9.txt') as fin:\n",
    "    s = fin.read()[:-1]\n",
    "blocks = generate_block(s)\n",
    "move_blocks2(blocks)"
   ]
  }
 ],
 "metadata": {
  "kernelspec": {
   "display_name": "datascience",
   "language": "python",
   "name": "datascience"
  },
  "language_info": {
   "codemirror_mode": {
    "name": "ipython",
    "version": 3
   },
   "file_extension": ".py",
   "mimetype": "text/x-python",
   "name": "python",
   "nbconvert_exporter": "python",
   "pygments_lexer": "ipython3",
   "version": "3.11.5"
  }
 },
 "nbformat": 4,
 "nbformat_minor": 5
}
