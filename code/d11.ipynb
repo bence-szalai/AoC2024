{
 "cells": [
  {
   "cell_type": "code",
   "execution_count": 57,
   "id": "620498d6-7cee-4222-b0f7-b44f79105d60",
   "metadata": {},
   "outputs": [],
   "source": [
    "import numpy as np\n",
    "import pandas as pd\n",
    "\n",
    "import seaborn as sns\n",
    "\n",
    "from tqdm import tqdm"
   ]
  },
  {
   "cell_type": "code",
   "execution_count": 111,
   "id": "54da39cc-87c5-4fcc-a317-aaa342c421f5",
   "metadata": {},
   "outputs": [],
   "source": [
    "#s = '0 1 10 99 999\\n'\n",
    "s = '125 17\\n'"
   ]
  },
  {
   "cell_type": "code",
   "execution_count": 112,
   "id": "4453313b-2515-4898-9028-517a3bd8a263",
   "metadata": {},
   "outputs": [],
   "source": [
    "def make_l(s):\n",
    "    return s[:-1].split()"
   ]
  },
  {
   "cell_type": "code",
   "execution_count": 113,
   "id": "fd27b872-62a7-4ade-8605-338b398e4102",
   "metadata": {},
   "outputs": [],
   "source": [
    "def blink(l):\n",
    "    l_new = []\n",
    "    for c in l:\n",
    "        if c=='0':\n",
    "            l_new.append('1')\n",
    "        elif (len(c) % 2 == 0):\n",
    "            i = int(len(c) / 2)\n",
    "            l_new.append(str(int(c[:i])))\n",
    "            l_new.append(str(int(c[i:])))\n",
    "        else:\n",
    "            l_new.append(str(int(c) * 2024))\n",
    "    return l_new  "
   ]
  },
  {
   "cell_type": "code",
   "execution_count": 114,
   "id": "d87e96e3-b126-4733-83c5-0ef06cd2fca1",
   "metadata": {},
   "outputs": [
    {
     "data": {
      "text/plain": [
       "22"
      ]
     },
     "execution_count": 114,
     "metadata": {},
     "output_type": "execute_result"
    }
   ],
   "source": [
    "l = make_l(s)\n",
    "for i in range(6):\n",
    "    l = blink(l)\n",
    "len(l)"
   ]
  },
  {
   "cell_type": "code",
   "execution_count": 115,
   "id": "d87e9763-5c12-4676-8aaa-04ceb4026d21",
   "metadata": {},
   "outputs": [],
   "source": [
    "with open('../data/d11.txt') as fin:\n",
    "    s = fin.read()"
   ]
  },
  {
   "cell_type": "code",
   "execution_count": 116,
   "id": "bd629e07-023b-44d6-a75c-d0632059e906",
   "metadata": {},
   "outputs": [
    {
     "data": {
      "text/plain": [
       "185205"
      ]
     },
     "execution_count": 116,
     "metadata": {},
     "output_type": "execute_result"
    }
   ],
   "source": [
    "l = make_l(s)\n",
    "for i in range(25):\n",
    "    l = blink(l)\n",
    "len(l)"
   ]
  },
  {
   "cell_type": "code",
   "execution_count": 117,
   "id": "05ed9f2c-aa2d-4e85-8c1e-31de6380a00a",
   "metadata": {},
   "outputs": [],
   "source": [
    "def make_dict(s):\n",
    "    d = {}\n",
    "    for c in s[:-1].split():\n",
    "        try:\n",
    "            d[c] += 1\n",
    "        except:\n",
    "            d[c] = 1\n",
    "    return d"
   ]
  },
  {
   "cell_type": "code",
   "execution_count": 118,
   "id": "dc8e7e80-2aea-4956-a00f-52c3b6207d90",
   "metadata": {},
   "outputs": [],
   "source": [
    "def blink_dict(d):\n",
    "    d_new = {}\n",
    "    for c in d.keys():\n",
    "        if c=='0':\n",
    "            try:\n",
    "                d_new['1'] += d[c]\n",
    "            except:\n",
    "                d_new['1'] = d[c]\n",
    "        elif (len(c) % 2 == 0):\n",
    "            i = int(len(c) / 2)\n",
    "            try:\n",
    "                d_new[str(int(c[:i]))] += d[c]\n",
    "            except:\n",
    "                d_new[str(int(c[:i]))] = d[c]\n",
    "            try:\n",
    "                d_new[str(int(c[i:]))] += d[c]\n",
    "            except:\n",
    "                d_new[str(int(c[i:]))] = d[c]\n",
    "        else:\n",
    "            try:\n",
    "                d_new[str(int(c) * 2024)] += d[c]\n",
    "            except:\n",
    "                d_new[str(int(c) * 2024)] = d[c]\n",
    "    return d_new"
   ]
  },
  {
   "cell_type": "code",
   "execution_count": 119,
   "id": "a3ffe523-72a5-49a6-a329-fd3e3f5e20de",
   "metadata": {},
   "outputs": [
    {
     "data": {
      "text/plain": [
       "185205"
      ]
     },
     "execution_count": 119,
     "metadata": {},
     "output_type": "execute_result"
    }
   ],
   "source": [
    "d= make_dict(s)\n",
    "for i in range(25):\n",
    "    d = blink_dict(d)\n",
    "np.array(list(d.values())).sum()"
   ]
  },
  {
   "cell_type": "code",
   "execution_count": 120,
   "id": "ef6832d7-374b-4ad3-8c05-4e2db1894bd7",
   "metadata": {},
   "outputs": [
    {
     "data": {
      "text/plain": [
       "221280540398419"
      ]
     },
     "execution_count": 120,
     "metadata": {},
     "output_type": "execute_result"
    }
   ],
   "source": [
    "d= make_dict(s)\n",
    "for i in range(75):\n",
    "    d = blink_dict(d)\n",
    "np.array(list(d.values())).sum()"
   ]
  },
  {
   "cell_type": "code",
   "execution_count": 122,
   "id": "65ced09d-3cf9-4731-84f0-058a98474d86",
   "metadata": {},
   "outputs": [
    {
     "data": {
      "text/plain": [
       "0.5820914132192625"
      ]
     },
     "execution_count": 122,
     "metadata": {},
     "output_type": "execute_result"
    }
   ],
   "source": [
    "8*(1.5**75) / 221280540398419"
   ]
  },
  {
   "cell_type": "code",
   "execution_count": 129,
   "id": "5f33a13b-6be6-44de-8e7b-bb1e0b25d01b",
   "metadata": {},
   "outputs": [
    {
     "data": {
      "text/plain": [
       "2462935608757"
      ]
     },
     "execution_count": 129,
     "metadata": {},
     "output_type": "execute_result"
    }
   ],
   "source": [
    "d['5']"
   ]
  },
  {
   "cell_type": "code",
   "execution_count": null,
   "id": "e9682ab8-8a87-497a-bb4a-78b154f78ec4",
   "metadata": {},
   "outputs": [],
   "source": []
  }
 ],
 "metadata": {
  "kernelspec": {
   "display_name": "decoupler",
   "language": "python",
   "name": "decoupler"
  },
  "language_info": {
   "codemirror_mode": {
    "name": "ipython",
    "version": 3
   },
   "file_extension": ".py",
   "mimetype": "text/x-python",
   "name": "python",
   "nbconvert_exporter": "python",
   "pygments_lexer": "ipython3",
   "version": "3.11.5"
  }
 },
 "nbformat": 4,
 "nbformat_minor": 5
}
