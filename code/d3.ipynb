{
 "cells": [
  {
   "cell_type": "markdown",
   "id": "5f458401-8f55-4fdb-884a-6a37df4243cc",
   "metadata": {},
   "source": [
    "### Problem 1"
   ]
  },
  {
   "cell_type": "code",
   "execution_count": 41,
   "id": "c92991cd-ff5b-42bf-b558-3db3eac2b9d9",
   "metadata": {},
   "outputs": [],
   "source": [
    "s = 'xmul(2,4)%&mul[3,7]!@^do_not_mul(5,5)+mul(32,64]then(mul(11,8)mul(8,5))'"
   ]
  },
  {
   "cell_type": "code",
   "execution_count": 42,
   "id": "7a3154a2-afd1-49a8-8d40-d73431ca9a7c",
   "metadata": {},
   "outputs": [
    {
     "data": {
      "text/plain": [
       "['x', '2,4)%&mul[3,7]!@^do_not_', '5,5)+', '32,64]then(', '11,8)', '8,5))']"
      ]
     },
     "execution_count": 42,
     "metadata": {},
     "output_type": "execute_result"
    }
   ],
   "source": [
    "s.split('mul(')"
   ]
  },
  {
   "cell_type": "code",
   "execution_count": 67,
   "id": "50100d9f-5b16-4bc6-90d4-9587c1d62ce7",
   "metadata": {},
   "outputs": [],
   "source": [
    "def get_answer1(s):\n",
    "    M = 0\n",
    "    for s_ in s.split('mul('):\n",
    "        x = s_.split(')')[0].split(',')\n",
    "        if len(x) == 2:\n",
    "            try:\n",
    "                a = int(x[0])\n",
    "                if len(str(a)) != len(x[0]):\n",
    "                    a = 0\n",
    "            except:\n",
    "                a = 0\n",
    "            try:\n",
    "                b = int(x[1])\n",
    "                if len(str(b)) != len(x[1]):\n",
    "                    b = 0\n",
    "            except:\n",
    "                b = 0\n",
    "            M = M + a * b\n",
    "    return M"
   ]
  },
  {
   "cell_type": "code",
   "execution_count": 68,
   "id": "ffe6393c-7a79-4b66-8c4d-a7156d0e3cdb",
   "metadata": {},
   "outputs": [],
   "source": [
    "with open('../data/d3.txt') as fin:\n",
    "    s = fin.read()"
   ]
  },
  {
   "cell_type": "code",
   "execution_count": 69,
   "id": "7de01bb5-5e8f-4e21-8c1e-b03ec1fd5226",
   "metadata": {},
   "outputs": [
    {
     "data": {
      "text/plain": [
       "162813399"
      ]
     },
     "execution_count": 69,
     "metadata": {},
     "output_type": "execute_result"
    }
   ],
   "source": [
    "get_answer1(s)"
   ]
  },
  {
   "cell_type": "markdown",
   "id": "28031a72-3212-4790-b3df-593c7201cbe7",
   "metadata": {},
   "source": [
    "### Problem2"
   ]
  },
  {
   "cell_type": "code",
   "execution_count": 85,
   "id": "e6886383-4b01-40aa-a694-cf0938b27a47",
   "metadata": {},
   "outputs": [],
   "source": [
    "s = \"xmul(2,4)&mul[3,7]!^don't()_mul(5,5)+mul(32,64](mul(11,8)undo()?mul(8,5))\""
   ]
  },
  {
   "cell_type": "code",
   "execution_count": 86,
   "id": "d8bd6f51-4d25-4673-898d-61ca559578bf",
   "metadata": {},
   "outputs": [],
   "source": [
    "def get_sgood(s):\n",
    "    s_good = ''\n",
    "    donts = s.split(\"don't()\")\n",
    "    s_good += donts[0]\n",
    "    for s_ in donts[1:]:\n",
    "        dos = s_.split('do()')\n",
    "        dos = ''.join(dos[1:])\n",
    "        s_good += dos\n",
    "    return s_good"
   ]
  },
  {
   "cell_type": "code",
   "execution_count": 87,
   "id": "1ca1f2af-7f87-4efc-9190-d8e08d2f2e62",
   "metadata": {},
   "outputs": [
    {
     "data": {
      "text/plain": [
       "48"
      ]
     },
     "execution_count": 87,
     "metadata": {},
     "output_type": "execute_result"
    }
   ],
   "source": [
    "get_answer1(get_sgood(s))"
   ]
  },
  {
   "cell_type": "code",
   "execution_count": 88,
   "id": "c40604b6-463e-4f3b-8886-2471e56ed140",
   "metadata": {},
   "outputs": [],
   "source": [
    "with open('../data/d3.txt') as fin:\n",
    "    s = fin.read()"
   ]
  },
  {
   "cell_type": "code",
   "execution_count": 89,
   "id": "355ac2f2-f138-4055-8e99-ab82f6f29dfe",
   "metadata": {},
   "outputs": [
    {
     "data": {
      "text/plain": [
       "53783319"
      ]
     },
     "execution_count": 89,
     "metadata": {},
     "output_type": "execute_result"
    }
   ],
   "source": [
    "get_answer1(get_sgood(s))"
   ]
  },
  {
   "cell_type": "code",
   "execution_count": null,
   "id": "b5bf884d-1123-4a8d-ade0-c2b87112d684",
   "metadata": {},
   "outputs": [],
   "source": []
  }
 ],
 "metadata": {
  "kernelspec": {
   "display_name": "datascience",
   "language": "python",
   "name": "datascience"
  },
  "language_info": {
   "codemirror_mode": {
    "name": "ipython",
    "version": 3
   },
   "file_extension": ".py",
   "mimetype": "text/x-python",
   "name": "python",
   "nbconvert_exporter": "python",
   "pygments_lexer": "ipython3",
   "version": "3.11.5"
  }
 },
 "nbformat": 4,
 "nbformat_minor": 5
}
