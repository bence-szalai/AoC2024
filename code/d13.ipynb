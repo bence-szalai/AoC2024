{
 "cells": [
  {
   "cell_type": "code",
   "execution_count": 85,
   "id": "2900686e-b852-41c3-859f-2d55caaf352b",
   "metadata": {
    "tags": []
   },
   "outputs": [],
   "source": [
    "s = 'Button A: X+94, Y+34\\nButton B: X+22, Y+67\\nPrize: X=8400, Y=5400\\n\\nButton A: X+26, Y+66\\nButton B: X+67, Y+21\\nPrize: X=12748, Y=12176\\n\\nButton A: X+17, Y+86\\nButton B: X+84, Y+37\\nPrize: X=7870, Y=6450\\n\\nButton A: X+69, Y+23\\nButton B: X+27, Y+71\\nPrize: X=18641, Y=10279\\n'"
   ]
  },
  {
   "cell_type": "code",
   "execution_count": 86,
   "id": "1d8fc996-77ba-4b76-ab4d-44148139a93d",
   "metadata": {},
   "outputs": [],
   "source": [
    "import numpy as np"
   ]
  },
  {
   "cell_type": "code",
   "execution_count": 87,
   "id": "621ff747-ad0a-49ac-9c49-15dbdd521bde",
   "metadata": {
    "tags": []
   },
   "outputs": [],
   "source": [
    "def get_data(s):\n",
    "    data = []\n",
    "    temp = s.split('\\n')\n",
    "    for i in range(len(temp)):\n",
    "        line = temp[i]\n",
    "        if (i % 4) == 0:\n",
    "            new_data = []\n",
    "            x = int(line.split()[2][2:-1])\n",
    "            y = int(line.split()[3][2:])\n",
    "            new_data += [x, y]\n",
    "        elif (i % 4) == 1:\n",
    "            x = int(line.split()[2][2:-1])\n",
    "            y = int(line.split()[3][2:])\n",
    "            new_data += [x, y]\n",
    "        elif (i % 4) == 2:\n",
    "            x = int(line.split()[1][2:-1])\n",
    "            y = int(line.split()[2][2:])\n",
    "            new_data += [x, y]\n",
    "        else:\n",
    "            data.append(new_data.copy())\n",
    "    return data"
   ]
  },
  {
   "cell_type": "code",
   "execution_count": 88,
   "id": "5fc3b652-3e0e-4220-9444-85dc995f2cfb",
   "metadata": {
    "tags": []
   },
   "outputs": [],
   "source": [
    "def get_one_price(data):\n",
    "    x1, y1, x2, y2, x, y = data\n",
    "    prices = []\n",
    "    for i in range(x // x1 + 2):\n",
    "        x_ = x - x1 * i\n",
    "        y_ = y - y1 * i\n",
    "        if ((x_ % x2) == 0) & ((y_ % y2) == 0):\n",
    "            j_x = x_ // x2\n",
    "            j_y = y_ // y2\n",
    "            if j_x == j_y:\n",
    "                prices.append(i * 3 + j_x)\n",
    "    if len(prices) > 0:\n",
    "        return min(prices)\n",
    "    else:\n",
    "        return 0"
   ]
  },
  {
   "cell_type": "code",
   "execution_count": 89,
   "id": "1ea42b5c-61f2-4032-9b04-67504e35f8ec",
   "metadata": {
    "tags": []
   },
   "outputs": [],
   "source": [
    "def get_one_price_closed(data):\n",
    "    x1, y1, x2, y2, x, y = data\n",
    "    i = (x - x2 * y / y2) / (x1 - x2 * y1 / y2)\n",
    "    j = (y - y1 * i) / y2\n",
    "    i = round(i)\n",
    "    j = round(j)\n",
    "    if ((x1 * i + x2 * j) == x) & ((y1 * i + y2 * j) == y):\n",
    "        return i * 3 + j\n",
    "    else:\n",
    "        return 0"
   ]
  },
  {
   "cell_type": "code",
   "execution_count": 90,
   "id": "43eca8b6-2caf-49c2-9008-cc8e3d362ebe",
   "metadata": {
    "tags": []
   },
   "outputs": [
    {
     "data": {
      "text/plain": [
       "480"
      ]
     },
     "execution_count": 90,
     "metadata": {},
     "output_type": "execute_result"
    }
   ],
   "source": [
    "data = get_data(s)\n",
    "prices = []\n",
    "for sample in data:\n",
    "    prices.append(get_one_price_closed(sample))\n",
    "sum(prices)"
   ]
  },
  {
   "cell_type": "code",
   "execution_count": 91,
   "id": "ea49a636-2b51-42a7-8e87-195b44ef095f",
   "metadata": {},
   "outputs": [
    {
     "data": {
      "text/plain": [
       "25751"
      ]
     },
     "execution_count": 91,
     "metadata": {},
     "output_type": "execute_result"
    }
   ],
   "source": [
    "with open('../data/d13.txt') as fin:\n",
    "    s2 = fin.read()\n",
    "data = get_data(s2)\n",
    "prices = []\n",
    "for sample in data:\n",
    "    prices.append(get_one_price_closed(sample))\n",
    "sum(prices)"
   ]
  },
  {
   "cell_type": "code",
   "execution_count": 94,
   "id": "8dfbf57e-c553-469e-a33e-edf457a103f3",
   "metadata": {},
   "outputs": [
    {
     "data": {
      "text/plain": [
       "108528956728655"
      ]
     },
     "execution_count": 94,
     "metadata": {},
     "output_type": "execute_result"
    }
   ],
   "source": [
    "with open('../data/d13.txt') as fin:\n",
    "    s2 = fin.read()\n",
    "data = get_data(s2)\n",
    "prices = []\n",
    "for sample in data:\n",
    "    sample_ = sample[:4] + [sample[4]+10000000000000, sample[5]+10000000000000]\n",
    "    prices.append(get_one_price_closed(sample_))\n",
    "sum(prices)"
   ]
  },
  {
   "cell_type": "code",
   "execution_count": null,
   "id": "5cd860a1-2d8d-42be-9e82-8ef39aaddf8e",
   "metadata": {},
   "outputs": [],
   "source": []
  }
 ],
 "metadata": {
  "kernelspec": {
   "display_name": "datascience",
   "language": "python",
   "name": "datascience"
  },
  "language_info": {
   "codemirror_mode": {
    "name": "ipython",
    "version": 3
   },
   "file_extension": ".py",
   "mimetype": "text/x-python",
   "name": "python",
   "nbconvert_exporter": "python",
   "pygments_lexer": "ipython3",
   "version": "3.11.5"
  }
 },
 "nbformat": 4,
 "nbformat_minor": 5
}
