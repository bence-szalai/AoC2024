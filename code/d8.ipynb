{
 "cells": [
  {
   "cell_type": "code",
   "execution_count": 43,
   "id": "9c60705a-1d71-4a0b-8edd-389d4e8635ab",
   "metadata": {},
   "outputs": [],
   "source": [
    "s = '............\\n........0...\\n.....0......\\n.......0....\\n....0.......\\n......A.....\\n............\\n............\\n........A...\\n.........A..\\n............\\n............\\n'"
   ]
  },
  {
   "cell_type": "code",
   "execution_count": 44,
   "id": "663fbc24-dccd-4f56-8f3b-ac8675afa359",
   "metadata": {},
   "outputs": [],
   "source": [
    "import numpy as np"
   ]
  },
  {
   "cell_type": "markdown",
   "id": "15f02f66-e804-4ee4-a14b-37b269dd04ae",
   "metadata": {},
   "source": [
    "### Problem 1"
   ]
  },
  {
   "cell_type": "code",
   "execution_count": 45,
   "id": "493ac010-1928-418d-8d92-3f4c2f9de926",
   "metadata": {},
   "outputs": [],
   "source": [
    "def read_M(s):\n",
    "    temp = s[:-1].split()\n",
    "    M = []\n",
    "    for i in range(len(temp)):\n",
    "        M.append(list(temp[i]))\n",
    "    return np.array(M)"
   ]
  },
  {
   "cell_type": "code",
   "execution_count": 46,
   "id": "a62c464e-f873-43c3-896e-7d9d76e3514f",
   "metadata": {},
   "outputs": [],
   "source": [
    "def get_nodes(M):\n",
    "    nodes = {}\n",
    "    for i in range(M.shape[0]):\n",
    "        for j in range(M.shape[1]):\n",
    "            if M[i, j] != '.':\n",
    "                try:\n",
    "                    nodes[M[i, j]].append((i, j))\n",
    "                except KeyError:\n",
    "                    nodes[M[i, j]] = [(i, j)]\n",
    "    return nodes"
   ]
  },
  {
   "cell_type": "code",
   "execution_count": 47,
   "id": "e2a5efa3-ac86-4f87-beab-1bd46691ddd9",
   "metadata": {},
   "outputs": [],
   "source": [
    "def get_antinodes(M):\n",
    "    nodes = get_nodes(M)\n",
    "    antinodes = []\n",
    "    for n in nodes:\n",
    "        for n1 in nodes[n]:\n",
    "            for n2 in nodes[n]:\n",
    "                if n1 != n2:\n",
    "                    d1 = n1[0] - n2[0]\n",
    "                    d2 = n1[1] - n2[1]\n",
    "                    an1 = n1[0] + d1\n",
    "                    an2 = n1[1] + d2\n",
    "                    if ((an1>=0) & (an2>=0) & (an1<M.shape[0]) & (an2<M.shape[1])):\n",
    "                        antinodes.append((an1, an2))\n",
    "    antinodes = list(set(antinodes))\n",
    "    return len(antinodes)"
   ]
  },
  {
   "cell_type": "code",
   "execution_count": 48,
   "id": "a73c6010-f164-4bec-bc00-80c06be18f04",
   "metadata": {},
   "outputs": [
    {
     "data": {
      "text/plain": [
       "14"
      ]
     },
     "execution_count": 48,
     "metadata": {},
     "output_type": "execute_result"
    }
   ],
   "source": [
    "M = read_M(s)\n",
    "get_antinodes(M)"
   ]
  },
  {
   "cell_type": "code",
   "execution_count": 49,
   "id": "d8ff62a3-ee81-4d29-83c0-3074e1ab763d",
   "metadata": {},
   "outputs": [
    {
     "data": {
      "text/plain": [
       "252"
      ]
     },
     "execution_count": 49,
     "metadata": {},
     "output_type": "execute_result"
    }
   ],
   "source": [
    "with open('../data/d8.txt') as fin:\n",
    "    s2 = fin.read()\n",
    "M = read_M(s2)\n",
    "get_antinodes(M)"
   ]
  },
  {
   "cell_type": "markdown",
   "id": "bac2173c-936c-4a43-b62c-9e71a28f6875",
   "metadata": {},
   "source": [
    "### Problem 2"
   ]
  },
  {
   "cell_type": "code",
   "execution_count": 63,
   "id": "51b57194-6436-4a32-9e9d-b80652d10932",
   "metadata": {},
   "outputs": [],
   "source": [
    "def get_antinodes2(M):\n",
    "    nodes = get_nodes(M)\n",
    "    antinodes = []\n",
    "    for n in nodes:\n",
    "        for n1 in nodes[n]:\n",
    "            for n2 in nodes[n]:\n",
    "                if n1 != n2:\n",
    "                    antinodes.append((n1))\n",
    "                    d1o = n1[0] - n2[0]\n",
    "                    d2o = n1[1] - n2[1]\n",
    "                    d1 = d1o\n",
    "                    d2 = d2o\n",
    "                    while True:\n",
    "                        an1 = n1[0] + d1\n",
    "                        an2 = n1[1] + d2\n",
    "                        if ((an1>=0) & (an2>=0) & (an1<M.shape[0]) & (an2<M.shape[1])):\n",
    "                            antinodes.append((an1, an2))\n",
    "                            d1 += d1o\n",
    "                            d2 += d2o\n",
    "                        else:\n",
    "                            break\n",
    "    antinodes = list(set(antinodes))\n",
    "    return len(antinodes)"
   ]
  },
  {
   "cell_type": "code",
   "execution_count": 64,
   "id": "36784a3f-0cbb-4e72-afa6-56c9164fe599",
   "metadata": {},
   "outputs": [
    {
     "data": {
      "text/plain": [
       "34"
      ]
     },
     "execution_count": 64,
     "metadata": {},
     "output_type": "execute_result"
    }
   ],
   "source": [
    "M = read_M(s)\n",
    "get_antinodes2(M)"
   ]
  },
  {
   "cell_type": "code",
   "execution_count": 65,
   "id": "5e124358-80ed-4835-a0ea-4080fc1782f3",
   "metadata": {},
   "outputs": [
    {
     "data": {
      "text/plain": [
       "839"
      ]
     },
     "execution_count": 65,
     "metadata": {},
     "output_type": "execute_result"
    }
   ],
   "source": [
    "with open('../data/d8.txt') as fin:\n",
    "    s2 = fin.read()\n",
    "M = read_M(s2)\n",
    "get_antinodes2(M)"
   ]
  },
  {
   "cell_type": "code",
   "execution_count": null,
   "id": "274d234d-7964-427e-821d-1025efe191ad",
   "metadata": {},
   "outputs": [],
   "source": []
  }
 ],
 "metadata": {
  "kernelspec": {
   "display_name": "datascience",
   "language": "python",
   "name": "datascience"
  },
  "language_info": {
   "codemirror_mode": {
    "name": "ipython",
    "version": 3
   },
   "file_extension": ".py",
   "mimetype": "text/x-python",
   "name": "python",
   "nbconvert_exporter": "python",
   "pygments_lexer": "ipython3",
   "version": "3.11.5"
  }
 },
 "nbformat": 4,
 "nbformat_minor": 5
}
